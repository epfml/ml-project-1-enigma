{
 "cells": [
  {
   "cell_type": "code",
   "execution_count": 4,
   "id": "initial_id",
   "metadata": {
    "collapsed": true,
    "ExecuteTime": {
     "end_time": "2023-10-29T12:51:49.036235Z",
     "start_time": "2023-10-29T12:51:48.993504Z"
    }
   },
   "outputs": [],
   "source": [
    "import sys\n",
    "import os\n",
    "from helpers import load_csv_data, create_csv_submission\n",
    "from run_helpers import load_useless_features_file\n",
    "from implementations import least_squares, reg_logistic_regression, ridge_regression, logistic_regression\n",
    "import numpy as np\n",
    "from sklearn.model_selection import train_test_split\n",
    "from sklearn.metrics import f1_score, accuracy_score"
   ]
  },
  {
   "cell_type": "code",
   "execution_count": 5,
   "outputs": [],
   "source": [
    "ROOT_DIR = os.path.abspath(os.curdir)\n",
    "DATA_DIR = ROOT_DIR + \"/\" + \"data\""
   ],
   "metadata": {
    "collapsed": false,
    "ExecuteTime": {
     "end_time": "2023-10-29T12:51:49.036459Z",
     "start_time": "2023-10-29T12:51:48.998247Z"
    }
   },
   "id": "b7916fc67e9e705"
  },
  {
   "cell_type": "code",
   "execution_count": 6,
   "outputs": [],
   "source": [
    "x_train_initial, x_test_initial, y_train_initial, train_ids_initial, test_ids_initial, column_names_initial = load_csv_data(DATA_DIR)"
   ],
   "metadata": {
    "collapsed": false,
    "ExecuteTime": {
     "end_time": "2023-10-29T12:53:10.671005Z",
     "start_time": "2023-10-29T12:51:49.002462Z"
    }
   },
   "id": "2bf1351fa747a1d"
  },
  {
   "cell_type": "code",
   "execution_count": 7,
   "outputs": [],
   "source": [
    "x_train, x_test, y_train, train_ids, test_ids, column_names = x_train_initial.copy(), x_test_initial.copy(), y_train_initial.copy(), train_ids_initial.copy(), test_ids_initial.copy(), column_names_initial.copy()"
   ],
   "metadata": {
    "collapsed": false,
    "ExecuteTime": {
     "end_time": "2023-10-29T12:53:10.983650Z",
     "start_time": "2023-10-29T12:53:10.673699Z"
    }
   },
   "id": "6aebe61f3ce9ac89"
  },
  {
   "cell_type": "code",
   "execution_count": 8,
   "outputs": [
    {
     "data": {
      "text/plain": "array([[5.3000000e+01, 1.1000000e+01, 1.1162015e+07, ...,           nan,\n                  nan, 2.0000000e+00],\n       [3.3000000e+01, 1.2000000e+01, 1.2152015e+07, ...,           nan,\n                  nan,           nan],\n       [2.0000000e+01, 1.0000000e+01, 1.0202015e+07, ..., 1.0000000e+00,\n        2.0000000e+00, 2.0000000e+00],\n       ...,\n       [3.9000000e+01, 1.0000000e+01, 1.0202015e+07, ..., 2.0000000e+00,\n        2.0000000e+00, 2.0000000e+00],\n       [3.3000000e+01, 1.2000000e+01, 1.2302015e+07, ...,           nan,\n                  nan, 2.0000000e+00],\n       [3.2000000e+01, 9.0000000e+00, 9.1220150e+06, ...,           nan,\n                  nan, 2.0000000e+00]])"
     },
     "execution_count": 8,
     "metadata": {},
     "output_type": "execute_result"
    }
   ],
   "source": [
    "x_train"
   ],
   "metadata": {
    "collapsed": false,
    "ExecuteTime": {
     "end_time": "2023-10-29T12:53:10.990696Z",
     "start_time": "2023-10-29T12:53:10.988682Z"
    }
   },
   "id": "7759edf7f02938dc"
  },
  {
   "cell_type": "markdown",
   "source": [
    "# Data cleaning"
   ],
   "metadata": {
    "collapsed": false
   },
   "id": "6656f7b5488eb210"
  },
  {
   "cell_type": "markdown",
   "source": [
    "## Removing useless features"
   ],
   "metadata": {
    "collapsed": false
   },
   "id": "538932b46cc1b606"
  },
  {
   "cell_type": "code",
   "execution_count": 9,
   "outputs": [],
   "source": [
    "useless_features_names = load_useless_features_file(os.path.join(ROOT_DIR, \"useless_features_names.csv\"))"
   ],
   "metadata": {
    "collapsed": false,
    "ExecuteTime": {
     "end_time": "2023-10-29T12:53:10.995177Z",
     "start_time": "2023-10-29T12:53:10.992441Z"
    }
   },
   "id": "45d35780d2ec8d89"
  },
  {
   "cell_type": "code",
   "execution_count": 10,
   "outputs": [],
   "source": [
    "useless_columns_indices = np.where(np.in1d(column_names, useless_features_names))[0]"
   ],
   "metadata": {
    "collapsed": false,
    "ExecuteTime": {
     "end_time": "2023-10-29T12:53:11.001078Z",
     "start_time": "2023-10-29T12:53:10.996250Z"
    }
   },
   "id": "72a8a15085e4a415"
  },
  {
   "cell_type": "code",
   "execution_count": 11,
   "outputs": [],
   "source": [
    "x_train = np.delete(x_train, useless_columns_indices, axis=1)\n",
    "x_test = np.delete(x_test, useless_columns_indices, axis=1)\n",
    "column_names = np.delete(column_names, useless_columns_indices)"
   ],
   "metadata": {
    "collapsed": false,
    "ExecuteTime": {
     "end_time": "2023-10-29T12:53:12.183516Z",
     "start_time": "2023-10-29T12:53:11.002425Z"
    }
   },
   "id": "bc5ec5b6326f8c0"
  },
  {
   "cell_type": "markdown",
   "source": [
    "## Normalizing data, removing nans and outliers"
   ],
   "metadata": {
    "collapsed": false
   },
   "id": "4dc682788d5998cd"
  },
  {
   "cell_type": "code",
   "execution_count": 12,
   "outputs": [],
   "source": [
    "def clean_outliers(data):\n",
    "   \"\"\"\n",
    "   Cleans the dataset from outliers.\n",
    "   The first quantile and last quantile outliers are replaced by the median without outliers.\n",
    "   \"\"\"\n",
    "   cleaned_data = np.copy(data)\n",
    "  \n",
    "   for i in range(data.shape[1]):  # Iterate over features/columns\n",
    "       feature = data[:, i]\n",
    "      \n",
    "       # Compute the first and last 5% and IQR\n",
    "       Q1 = np.nanpercentile(feature, 25)\n",
    "       Q3 = np.nanpercentile(feature, 75)\n",
    "       IQR = Q3 - Q1\n",
    "      \n",
    "       # Identify the outliers\n",
    "       outlier_mask = (feature < (Q1 - 1.5 * IQR)) | (feature > (Q3 + 1.5 * IQR))\n",
    "      \n",
    "       # Compute the median of the data without outliers\n",
    "       median_without_outliers = np.nanmedian(feature[~outlier_mask])\n",
    "      \n",
    "       # Replace outliers with this median\n",
    "       cleaned_data[outlier_mask, i] = median_without_outliers\n",
    "      \n",
    "   return cleaned_data\n"
   ],
   "metadata": {
    "collapsed": false,
    "ExecuteTime": {
     "end_time": "2023-10-29T12:53:12.187881Z",
     "start_time": "2023-10-29T12:53:12.185713Z"
    }
   },
   "id": "19e01d8df6d970b9"
  },
  {
   "cell_type": "code",
   "execution_count": 13,
   "outputs": [],
   "source": [
    "x_train = clean_outliers(x_train)\n",
    "x_test = clean_outliers(x_test)"
   ],
   "metadata": {
    "collapsed": false,
    "ExecuteTime": {
     "end_time": "2023-10-29T12:53:15.447923Z",
     "start_time": "2023-10-29T12:53:12.189020Z"
    }
   },
   "id": "588add4f1085d258"
  },
  {
   "cell_type": "code",
   "execution_count": 14,
   "outputs": [],
   "source": [
    "x_train_averages = np.nanmean(x_train, axis=0)\n",
    "x_test_averages = np.nanmean(x_test, axis=0)"
   ],
   "metadata": {
    "collapsed": false,
    "ExecuteTime": {
     "end_time": "2023-10-29T12:53:16.151159Z",
     "start_time": "2023-10-29T12:53:15.449073Z"
    }
   },
   "id": "fdc5e591a2408556"
  },
  {
   "cell_type": "code",
   "execution_count": 15,
   "outputs": [],
   "source": [
    "# Replace nan values with the computed means for each feature\n",
    "for i in range(x_train.shape[1]):\n",
    "   x_train[np.isnan(x_train[:, i]), i] = x_train_averages[i]\n",
    "   \n",
    "# Replace nan values with the computed means for each feature\n",
    "for i in range(x_test.shape[1]):\n",
    "   x_test[np.isnan(x_test[:, i]), i] = x_test_averages[i]\n"
   ],
   "metadata": {
    "collapsed": false,
    "ExecuteTime": {
     "end_time": "2023-10-29T12:53:16.527490Z",
     "start_time": "2023-10-29T12:53:16.153008Z"
    }
   },
   "id": "b89aead74db41325"
  },
  {
   "cell_type": "code",
   "execution_count": 16,
   "outputs": [],
   "source": [
    "x_train_std_dev = np.std(x_train, axis=0)\n",
    "x_train = np.delete(x_train, np.where(x_train_std_dev == 0), axis=1)\n",
    "x_test = np.delete(x_test, np.where(x_train_std_dev == 0), axis=1)\n",
    "x_test_std_dev = np.std(x_test, axis=0)\n",
    "x_train = np.delete(x_train, np.where(x_test_std_dev == 0), axis=1)\n",
    "x_test = np.delete(x_test, np.where(x_test_std_dev == 0), axis=1)"
   ],
   "metadata": {
    "collapsed": false,
    "ExecuteTime": {
     "end_time": "2023-10-29T12:53:17.260547Z",
     "start_time": "2023-10-29T12:53:16.530223Z"
    }
   },
   "id": "bb300b9c1d22d4d9"
  },
  {
   "cell_type": "code",
   "execution_count": 17,
   "outputs": [],
   "source": [
    "# Z-score normalization\n",
    "def z_score_normalization(data):\n",
    "   mean_vals = np.mean(data, axis=0)\n",
    "   std_dev = np.std(data, axis=0)\n",
    "   return (data - mean_vals) / std_dev\n",
    "\n",
    "\n",
    "x_train = z_score_normalization(x_train)\n",
    "x_test = z_score_normalization(x_test)"
   ],
   "metadata": {
    "collapsed": false,
    "ExecuteTime": {
     "end_time": "2023-10-29T12:53:18.001176Z",
     "start_time": "2023-10-29T12:53:17.264579Z"
    }
   },
   "id": "3c081ef5489d6b3a"
  },
  {
   "cell_type": "code",
   "execution_count": 18,
   "outputs": [
    {
     "data": {
      "text/plain": "array([[-1.61190630e+00, -1.66692700e+00,  1.18089740e+00, ...,\n         0.00000000e+00, -1.77600910e-15,  6.66941669e-01],\n       [ 7.36126946e-01,  6.49440401e-01,  5.20900978e-16, ...,\n         0.00000000e+00, -1.77600910e-15, -1.55128811e-15],\n       [ 4.39249180e-01,  3.42451951e-01,  1.18089740e+00, ...,\n        -1.18082469e+00,  3.08957382e+00,  6.66941669e-01],\n       ...,\n       [ 7.36126946e-01, -1.77855916e+00,  1.18089740e+00, ...,\n         2.38003972e+00,  3.08957382e+00,  6.66941669e-01],\n       [ 7.36126946e-01,  6.49440401e-01,  5.20900978e-16, ...,\n         0.00000000e+00, -1.77600910e-15,  6.66941669e-01],\n       [-1.44997297e+00, -1.61111091e+00, -1.97144530e+00, ...,\n         0.00000000e+00, -1.77600910e-15,  6.66941669e-01]])"
     },
     "execution_count": 18,
     "metadata": {},
     "output_type": "execute_result"
    }
   ],
   "source": [
    "x_train"
   ],
   "metadata": {
    "collapsed": false,
    "ExecuteTime": {
     "end_time": "2023-10-29T12:53:18.004335Z",
     "start_time": "2023-10-29T12:53:18.002257Z"
    }
   },
   "id": "57f3505b000bd266"
  },
  {
   "cell_type": "markdown",
   "source": [
    "# Machine learning"
   ],
   "metadata": {
    "collapsed": false
   },
   "id": "1918b150130705f4"
  },
  {
   "cell_type": "markdown",
   "source": [
    "## Splitting train sets in two"
   ],
   "metadata": {
    "collapsed": false
   },
   "id": "36be3f3fb8584de8"
  },
  {
   "cell_type": "code",
   "execution_count": 19,
   "outputs": [],
   "source": [
    "x_train1, x_test1, y_train1, y_test1 = train_test_split(x_train, y_train, test_size=0.33, random_state=42)"
   ],
   "metadata": {
    "collapsed": false,
    "ExecuteTime": {
     "end_time": "2023-10-29T12:53:18.490502Z",
     "start_time": "2023-10-29T12:53:18.006306Z"
    }
   },
   "id": "f742b6f5e97fa4fc"
  },
  {
   "cell_type": "code",
   "execution_count": 20,
   "outputs": [
    {
     "name": "stdout",
     "output_type": "stream",
     "text": [
      "F1_score: [0.2939978768946975, 0.29401120506663886, 0.29384973750999543, 0.29220499197902466, 0.28857904864791867]\n",
      "Accuracy: [0.6253497714364871, 0.6252851272106017, 0.6248603222976404, 0.6210647827492266, 0.6107863508334488]\n",
      "lambda values: [1e-05, 0.0001, 0.001, 0.01, 0.1]\n"
     ]
    }
   ],
   "source": [
    "# Ridge Regression\n",
    "best_f1_score = [0,0,0,0,0]\n",
    "best_accuracy = [0,0,0,0,0]\n",
    "best_total = [0,0,0,0,0]\n",
    "lambda_value = [0,0,0,0,0]\n",
    "for lambda_ in [0.00001, 0.0001, 0.001, 0.01, 0.1]:\n",
    "    w, loss = ridge_regression(y_train1, x_train1, lambda_)\n",
    "    y_pred1 = x_test1 @ w\n",
    "    y_pred1[y_pred1 >= 0] = 1\n",
    "    y_pred1[y_pred1 < 0] = -1\n",
    "    f1 = f1_score(y_test1, y_pred1)\n",
    "    accuracy = accuracy_score(y_test1,y_pred1)\n",
    "    total = f1 + accuracy\n",
    "    if total > min(best_total):\n",
    "        index = best_total.index(min(best_total))\n",
    "        best_total[index] = total\n",
    "        best_accuracy[index] = accuracy\n",
    "        best_f1_score[index] = f1\n",
    "        lambda_value[index] = lambda_\n",
    "\n",
    "    \n",
    "print(f\"F1_score: {best_f1_score}\")\n",
    "print(f\"Accuracy: {best_accuracy}\")\n",
    "print(f\"lambda values: {lambda_value}\")"
   ],
   "metadata": {
    "collapsed": false,
    "ExecuteTime": {
     "end_time": "2023-10-29T12:53:23.256011Z",
     "start_time": "2023-10-29T12:53:18.494143Z"
    }
   },
   "id": "e5328ba73177132"
  },
  {
   "cell_type": "code",
   "execution_count": 21,
   "outputs": [
    {
     "name": "stdout",
     "output_type": "stream",
     "text": [
      "F1_score: 0.3813316835511561\n",
      "Accuracy: 0.8522417694048113\n"
     ]
    }
   ],
   "source": [
    "w, loss = ridge_regression(y_train1, x_train1, lambda_/10000)\n",
    "y_pred1 = x_test1 @ w\n",
    "y_pred1[y_pred1 >= 0.23] = 1\n",
    "y_pred1[y_pred1 < 0.23] = -1\n",
    "f1 = f1_score(y_test1, y_pred1)\n",
    "accuracy = accuracy_score(y_test1,y_pred1)\n",
    "print(f\"F1_score: {f1}\")\n",
    "print(f\"Accuracy: {accuracy}\")"
   ],
   "metadata": {
    "collapsed": false,
    "ExecuteTime": {
     "end_time": "2023-10-29T12:53:24.135629Z",
     "start_time": "2023-10-29T12:53:23.257923Z"
    }
   },
   "id": "e41e7938bdb83673"
  },
  {
   "cell_type": "code",
   "execution_count": 22,
   "outputs": [
    {
     "ename": "KeyboardInterrupt",
     "evalue": "",
     "output_type": "error",
     "traceback": [
      "\u001B[0;31m---------------------------------------------------------------------------\u001B[0m",
      "\u001B[0;31mKeyboardInterrupt\u001B[0m                         Traceback (most recent call last)",
      "Cell \u001B[0;32mIn[22], line 10\u001B[0m\n\u001B[1;32m      8\u001B[0m \u001B[38;5;28;01mfor\u001B[39;00m gamma \u001B[38;5;129;01min\u001B[39;00m [\u001B[38;5;241m0.0001\u001B[39m, \u001B[38;5;241m0.001\u001B[39m, \u001B[38;5;241m0.01\u001B[39m, \u001B[38;5;241m0.1\u001B[39m]:\n\u001B[1;32m      9\u001B[0m     \u001B[38;5;28;01mfor\u001B[39;00m max_iters \u001B[38;5;129;01min\u001B[39;00m [\u001B[38;5;241m1000\u001B[39m, \u001B[38;5;241m5000\u001B[39m, \u001B[38;5;241m10000\u001B[39m]:\n\u001B[0;32m---> 10\u001B[0m         w, loss \u001B[38;5;241m=\u001B[39m \u001B[43mlogistic_regression\u001B[49m\u001B[43m(\u001B[49m\u001B[43my_train1\u001B[49m\u001B[43m,\u001B[49m\u001B[43m \u001B[49m\u001B[43mx_train1\u001B[49m\u001B[43m,\u001B[49m\u001B[43m \u001B[49m\u001B[43minitial_w\u001B[49m\u001B[43m,\u001B[49m\u001B[43m \u001B[49m\u001B[43mmax_iters\u001B[49m\u001B[43m,\u001B[49m\u001B[43m \u001B[49m\u001B[43mgamma\u001B[49m\u001B[43m)\u001B[49m\n\u001B[1;32m     11\u001B[0m         y_pred1 \u001B[38;5;241m=\u001B[39m x_test1 \u001B[38;5;241m@\u001B[39m w\n\u001B[1;32m     12\u001B[0m         y_pred1[y_pred1 \u001B[38;5;241m>\u001B[39m\u001B[38;5;241m=\u001B[39m \u001B[38;5;241m0\u001B[39m] \u001B[38;5;241m=\u001B[39m \u001B[38;5;241m1\u001B[39m\n",
      "File \u001B[0;32m~/Documents/Universities/EPFL/Master/Autumn_Semester_2023/CS-433_ML/Project_1/ml-project-1-enigma/implementations.py:146\u001B[0m, in \u001B[0;36mlogistic_regression\u001B[0;34m(y, tx, initial_w, max_iters, gamma)\u001B[0m\n\u001B[1;32m    143\u001B[0m predictions \u001B[38;5;241m=\u001B[39m sigmoid(tx \u001B[38;5;241m@\u001B[39m w)\n\u001B[1;32m    145\u001B[0m \u001B[38;5;66;03m# Compute the gradient\u001B[39;00m\n\u001B[0;32m--> 146\u001B[0m gradient \u001B[38;5;241m=\u001B[39m (\u001B[43mtx\u001B[49m\u001B[38;5;241;43m.\u001B[39;49m\u001B[43mT\u001B[49m\u001B[43m \u001B[49m\u001B[38;5;241;43m@\u001B[39;49m\u001B[43m \u001B[49m\u001B[43m(\u001B[49m\u001B[43mpredictions\u001B[49m\u001B[43m \u001B[49m\u001B[38;5;241;43m-\u001B[39;49m\u001B[43m \u001B[49m\u001B[43my\u001B[49m\u001B[43m)\u001B[49m) \u001B[38;5;241m/\u001B[39m \u001B[38;5;28mlen\u001B[39m(y)\n\u001B[1;32m    148\u001B[0m \u001B[38;5;66;03m# Update the weights\u001B[39;00m\n\u001B[1;32m    149\u001B[0m w \u001B[38;5;241m=\u001B[39m w \u001B[38;5;241m-\u001B[39m gamma \u001B[38;5;241m*\u001B[39m gradient\n",
      "\u001B[0;31mKeyboardInterrupt\u001B[0m: "
     ]
    }
   ],
   "source": [
    "# Logistic Regression\n",
    "best_f1_score = [0,0,0,0,0]\n",
    "best_accuracy = [0,0,0,0,0]\n",
    "best_total = [0,0,0,0,0]\n",
    "best_max_iters = [0,0,0,0,0]\n",
    "best_gamma = [0,0,0,0,0]\n",
    "initial_w = np.zeros(x_train1.shape[1])\n",
    "for gamma in [0.0001, 0.001, 0.01, 0.1]:\n",
    "    for max_iters in [1000, 5000, 10000]:\n",
    "        w, loss = logistic_regression(y_train1, x_train1, initial_w, max_iters, gamma)\n",
    "        y_pred1 = x_test1 @ w\n",
    "        y_pred1[y_pred1 >= 0] = 1\n",
    "        y_pred1[y_pred1 < 0] = -1\n",
    "        f1 = f1_score(y_test1, y_pred1)\n",
    "        accuracy = accuracy_score(y_test1,y_pred1)\n",
    "        total = f1 + accuracy\n",
    "        if total > min(best_total):\n",
    "            index = best_total.index(min(best_total))\n",
    "            best_total[index] = total\n",
    "            best_accuracy[index] = accuracy\n",
    "            best_f1_score[index] = f1\n",
    "            best_gamma[index] = gamma\n",
    "            best_max_iters[index] = max_iters\n",
    "        if max_iters == 10000:\n",
    "            print(f\"Gamma = {gamma} done...\")\n",
    "\n",
    "    \n",
    "print(f\"F1_score: {best_f1_score}\")\n",
    "print(f\"Accuracy: {best_accuracy}\")\n",
    "print(f\"Max iters: {best_max_iters}\")\n",
    "print(f\"Gamma: {best_gamma}\")"
   ],
   "metadata": {
    "collapsed": false,
    "ExecuteTime": {
     "end_time": "2023-10-29T12:56:03.034424Z",
     "start_time": "2023-10-29T12:53:24.141299Z"
    }
   },
   "id": "9e735a42a434fae9"
  },
  {
   "cell_type": "code",
   "execution_count": null,
   "outputs": [],
   "source": [
    "# Reg Logistic regression\n",
    "best_f1_score = [0,0,0,0,0]\n",
    "best_accuracy = [0,0,0,0,0]\n",
    "best_total = [0,0,0,0,0]\n",
    "lambda_value = [0,0,0,0,0]\n",
    "best_max_iters = [0,0,0,0,0]\n",
    "best_gamma = [0,0,0,0,0]\n",
    "initial_w = np.zeros(x_train1.shape[1])\n",
    "for lambda_ in [0.0001, 0.001, 0.01, 0.1]:\n",
    "    for max_iters in [1000, 5000, 10000]:\n",
    "        for gamma in [0.0001, 0.001, 0.01, 0.1]:\n",
    "            w, loss = reg_logistic_regression(y_train1, x_train1, lambda_, initial_w, max_iters, gamma)\n",
    "            y_pred1 = x_test1 @ w\n",
    "            y_pred1[y_pred1 >= 0] = 1\n",
    "            y_pred1[y_pred1 < 0] = -1\n",
    "            f1 = f1_score(y_test1, y_pred1)\n",
    "            accuracy = accuracy_score(y_test1,y_pred1)\n",
    "            total = f1 + accuracy\n",
    "            if total > min(best_total):\n",
    "                index = best_total.index(min(best_total))\n",
    "                best_total[index] = total\n",
    "                best_accuracy[index] = accuracy\n",
    "                best_f1_score[index] = f1\n",
    "                lambda_value[index] = lambda_\n",
    "                best_max_iters[index] = max_iters\n",
    "                best_gamma[index] = gamma\n",
    "            if max_iters == 10000 and gamma == 0.1:\n",
    "            print(f\"Lambda = {lambda_} done...\")\n",
    "\n",
    "print(f\"F1_score: {best_f1_score}\")\n",
    "print(f\"Accuracy: {best_accuracy}\")\n",
    "print(f\"lambda values: {lambda_value}\")\n",
    "print(f\"Max iters: {best_max_iters}\")\n",
    "print(f\"Gamma: {best_gamma}\")"
   ],
   "metadata": {
    "collapsed": false,
    "ExecuteTime": {
     "end_time": "2023-10-29T12:56:03.041323Z",
     "start_time": "2023-10-29T12:56:03.035413Z"
    }
   },
   "id": "ba2db7338c50957c"
  },
  {
   "cell_type": "markdown",
   "source": [
    "## Reg logistic regression"
   ],
   "metadata": {
    "collapsed": false
   },
   "id": "5155fadc2ba3382f"
  },
  {
   "cell_type": "code",
   "execution_count": null,
   "outputs": [],
   "source": [
    "lambda_ = 0.1\n",
    "initial_w = np.zeros(x_train.shape[1])\n",
    "max_iters = 1000\n",
    "gamma = 0.01"
   ],
   "metadata": {
    "collapsed": false,
    "ExecuteTime": {
     "start_time": "2023-10-29T12:56:03.037729Z"
    }
   },
   "id": "43443cc76510b2b4"
  },
  {
   "cell_type": "code",
   "execution_count": null,
   "outputs": [],
   "source": [
    "ridge_regression_w, ridge_regression_loss = ridge_regression(y_train, x_train, lambda_)"
   ],
   "metadata": {
    "collapsed": false,
    "ExecuteTime": {
     "start_time": "2023-10-29T12:56:03.039131Z"
    }
   },
   "id": "629240a8ada8b9a4"
  },
  {
   "cell_type": "code",
   "execution_count": null,
   "outputs": [],
   "source": [
    "reg_logistic_regression_w, reg_logistic_regression_loss = reg_logistic_regression(y_train, x_train, lambda_, initial_w, max_iters, gamma)"
   ],
   "metadata": {
    "collapsed": false,
    "ExecuteTime": {
     "start_time": "2023-10-29T12:56:03.040734Z"
    }
   },
   "id": "8a3a7fcd285a0905"
  },
  {
   "cell_type": "code",
   "execution_count": null,
   "outputs": [],
   "source": [
    "least_squares_w, least_squares_loss = least_squares(y_train, x_train)"
   ],
   "metadata": {
    "collapsed": false,
    "ExecuteTime": {
     "start_time": "2023-10-29T12:56:03.042530Z"
    }
   },
   "id": "8994bc7f68de2780"
  },
  {
   "cell_type": "code",
   "execution_count": null,
   "outputs": [],
   "source": [
    "least_squares_y_pred = x_test @ least_squares_w\n",
    "least_squares_y_pred[least_squares_y_pred >= 0] = 1\n",
    "least_squares_y_pred[least_squares_y_pred < 0] = -1"
   ],
   "metadata": {
    "collapsed": false,
    "ExecuteTime": {
     "start_time": "2023-10-29T12:56:03.044495Z"
    }
   },
   "id": "13121692a57f22bf"
  },
  {
   "cell_type": "code",
   "execution_count": null,
   "outputs": [],
   "source": [
    "create_csv_submission(test_ids, least_squares_y_pred, \"least_squares_test02.csv\")"
   ],
   "metadata": {
    "collapsed": false,
    "ExecuteTime": {
     "start_time": "2023-10-29T12:56:03.046096Z"
    }
   },
   "id": "a4c0ea9cb0c6500d"
  },
  {
   "cell_type": "code",
   "execution_count": null,
   "outputs": [],
   "source": [
    "reg_logistic_regression_y_pred = x_test @ reg_logistic_regression_w\n",
    "reg_logistic_regression_y_pred[reg_logistic_regression_y_pred >= 0] = 1\n",
    "reg_logistic_regression_y_pred[reg_logistic_regression_y_pred < 0] = -1"
   ],
   "metadata": {
    "collapsed": false,
    "ExecuteTime": {
     "start_time": "2023-10-29T12:56:03.047384Z"
    }
   },
   "id": "74a49fea96d5018e"
  },
  {
   "cell_type": "code",
   "execution_count": null,
   "outputs": [],
   "source": [
    "reg_logistic_regression_y_pred"
   ],
   "metadata": {
    "collapsed": false,
    "ExecuteTime": {
     "start_time": "2023-10-29T12:56:03.048302Z"
    }
   },
   "id": "b973f48ddff184eb"
  },
  {
   "cell_type": "code",
   "execution_count": null,
   "outputs": [],
   "source": [
    "create_csv_submission(test_ids, reg_logistic_regression_y_pred, \"reg_logistic_regression_test02.csv\")\n"
   ],
   "metadata": {
    "collapsed": false,
    "ExecuteTime": {
     "start_time": "2023-10-29T12:56:03.049195Z"
    }
   },
   "id": "586ba1094353a115"
  },
  {
   "cell_type": "code",
   "execution_count": null,
   "outputs": [],
   "source": [
    "ridge_regression_y_pred = x_test @ ridge_regression_w\n",
    "ridge_regression_y_pred[ridge_regression_y_pred >= 0] = 1\n",
    "ridge_regression_y_pred[ridge_regression_y_pred < 0] = -1"
   ],
   "metadata": {
    "collapsed": false,
    "ExecuteTime": {
     "start_time": "2023-10-29T12:56:03.050070Z"
    }
   },
   "id": "24b4aae8eaa39c04"
  },
  {
   "cell_type": "code",
   "execution_count": null,
   "outputs": [],
   "source": [
    "create_csv_submission(test_ids, ridge_regression_y_pred, \"ridge_regression_test02.csv\")\n"
   ],
   "metadata": {
    "collapsed": false,
    "ExecuteTime": {
     "start_time": "2023-10-29T12:56:03.051103Z"
    }
   },
   "id": "369b15f043ebb3ea"
  },
  {
   "cell_type": "code",
   "execution_count": null,
   "outputs": [],
   "source": [],
   "metadata": {
    "collapsed": false,
    "ExecuteTime": {
     "start_time": "2023-10-29T12:56:03.052163Z"
    }
   },
   "id": "f9618b7ad11fd1df"
  }
 ],
 "metadata": {
  "kernelspec": {
   "display_name": "Python 3",
   "language": "python",
   "name": "python3"
  },
  "language_info": {
   "codemirror_mode": {
    "name": "ipython",
    "version": 2
   },
   "file_extension": ".py",
   "mimetype": "text/x-python",
   "name": "python",
   "nbconvert_exporter": "python",
   "pygments_lexer": "ipython2",
   "version": "2.7.6"
  }
 },
 "nbformat": 4,
 "nbformat_minor": 5
}
