{
 "cells": [
  {
   "cell_type": "code",
   "execution_count": 1,
   "id": "initial_id",
   "metadata": {
    "collapsed": true,
    "ExecuteTime": {
     "end_time": "2023-10-29T15:25:27.958410Z",
     "start_time": "2023-10-29T15:25:27.477039Z"
    }
   },
   "outputs": [],
   "source": [
    "import sys\n",
    "import os\n",
    "from helpers import load_csv_data, create_csv_submission\n",
    "from run_helpers import load_useless_features_file\n",
    "from implementations import least_squares, reg_logistic_regression, ridge_regression, logistic_regression, mean_squared_error_gd, mean_squared_error_sgd\n",
    "import numpy as np\n",
    "from sklearn.model_selection import train_test_split\n",
    "from sklearn.metrics import f1_score, accuracy_score"
   ]
  },
  {
   "cell_type": "code",
   "execution_count": 2,
   "outputs": [],
   "source": [
    "ROOT_DIR = os.path.abspath(os.curdir)\n",
    "DATA_DIR = os.path.join(ROOT_DIR, \"data\")\n",
    "PREDICTIONS_DIR = os.path.join(ROOT_DIR, \"predictions\")\n",
    "HELPER_FILES_DIR = os.path.join(ROOT_DIR, \"helper_files\")"
   ],
   "metadata": {
    "collapsed": false,
    "ExecuteTime": {
     "end_time": "2023-10-29T15:25:27.976692Z",
     "start_time": "2023-10-29T15:25:27.961054Z"
    }
   },
   "id": "b7916fc67e9e705"
  },
  {
   "cell_type": "code",
   "execution_count": 3,
   "outputs": [],
   "source": [
    "x_train_initial, x_test_initial, y_train_initial, train_ids_initial, test_ids_initial, column_names_initial = load_csv_data(DATA_DIR)"
   ],
   "metadata": {
    "collapsed": false,
    "ExecuteTime": {
     "end_time": "2023-10-29T15:26:48.932904Z",
     "start_time": "2023-10-29T15:25:27.965333Z"
    }
   },
   "id": "2bf1351fa747a1d"
  },
  {
   "cell_type": "code",
   "execution_count": 45,
   "outputs": [],
   "source": [
    "x_train, x_test, y_train, train_ids, test_ids, column_names = x_train_initial.copy(), x_test_initial.copy(), y_train_initial.copy(), train_ids_initial.copy(), test_ids_initial.copy(), column_names_initial.copy()"
   ],
   "metadata": {
    "collapsed": false,
    "ExecuteTime": {
     "end_time": "2023-10-29T15:33:09.383132Z",
     "start_time": "2023-10-29T15:33:09.129900Z"
    }
   },
   "id": "6aebe61f3ce9ac89"
  },
  {
   "cell_type": "code",
   "execution_count": 46,
   "outputs": [
    {
     "data": {
      "text/plain": "array([[5.3000000e+01, 1.1000000e+01, 1.1162015e+07, ...,           nan,\n                  nan, 2.0000000e+00],\n       [3.3000000e+01, 1.2000000e+01, 1.2152015e+07, ...,           nan,\n                  nan,           nan],\n       [2.0000000e+01, 1.0000000e+01, 1.0202015e+07, ..., 1.0000000e+00,\n        2.0000000e+00, 2.0000000e+00],\n       ...,\n       [3.9000000e+01, 1.0000000e+01, 1.0202015e+07, ..., 2.0000000e+00,\n        2.0000000e+00, 2.0000000e+00],\n       [3.3000000e+01, 1.2000000e+01, 1.2302015e+07, ...,           nan,\n                  nan, 2.0000000e+00],\n       [3.2000000e+01, 9.0000000e+00, 9.1220150e+06, ...,           nan,\n                  nan, 2.0000000e+00]])"
     },
     "execution_count": 46,
     "metadata": {},
     "output_type": "execute_result"
    }
   ],
   "source": [
    "x_train"
   ],
   "metadata": {
    "collapsed": false,
    "ExecuteTime": {
     "end_time": "2023-10-29T15:33:09.391391Z",
     "start_time": "2023-10-29T15:33:09.384617Z"
    }
   },
   "id": "7759edf7f02938dc"
  },
  {
   "cell_type": "code",
   "execution_count": 47,
   "outputs": [
    {
     "data": {
      "text/plain": "array(['_STATE', 'FMONTH', 'IDATE', 'IMONTH', 'IDAY', 'IYEAR', 'DISPCODE',\n       'SEQNO', '_PSU', 'CTELENUM', 'PVTRESD1', 'COLGHOUS', 'STATERES',\n       'CELLFON3', 'LADULT', 'NUMADULT', 'NUMMEN', 'NUMWOMEN', 'CTELNUM1',\n       'CELLFON2', 'CADULT', 'PVTRESD2', 'CCLGHOUS', 'CSTATE', 'LANDLINE',\n       'HHADULT', 'GENHLTH', 'PHYSHLTH', 'MENTHLTH', 'POORHLTH',\n       'HLTHPLN1', 'PERSDOC2', 'MEDCOST', 'CHECKUP1', 'BPHIGH4', 'BPMEDS',\n       'BLOODCHO', 'CHOLCHK', 'TOLDHI2', 'CVDSTRK3', 'ASTHMA3', 'ASTHNOW',\n       'CHCSCNCR', 'CHCOCNCR', 'CHCCOPD1', 'HAVARTH3', 'ADDEPEV2',\n       'CHCKIDNY', 'DIABETE3', 'DIABAGE2', 'SEX', 'MARITAL', 'EDUCA',\n       'RENTHOM1', 'NUMHHOL2', 'NUMPHON2', 'CPDEMO1', 'VETERAN3',\n       'EMPLOY1', 'CHILDREN', 'INCOME2', 'INTERNET', 'WEIGHT2', 'HEIGHT3',\n       'PREGNANT', 'QLACTLM2', 'USEEQUIP', 'BLIND', 'DECIDE', 'DIFFWALK',\n       'DIFFDRES', 'DIFFALON', 'SMOKE100', 'SMOKDAY2', 'STOPSMK2',\n       'LASTSMK2', 'USENOW3', 'ALCDAY5', 'AVEDRNK2', 'DRNK3GE5',\n       'MAXDRNKS', 'FRUITJU1', 'FRUIT1', 'FVBEANS', 'FVGREEN', 'FVORANG',\n       'VEGETAB1', 'EXERANY2', 'EXRACT11', 'EXEROFT1', 'EXERHMM1',\n       'EXRACT21', 'EXEROFT2', 'EXERHMM2', 'STRENGTH', 'LMTJOIN3',\n       'ARTHDIS2', 'ARTHSOCL', 'JOINPAIN', 'SEATBELT', 'FLUSHOT6',\n       'FLSHTMY2', 'IMFVPLAC', 'PNEUVAC3', 'HIVTST6', 'HIVTSTD3',\n       'WHRTST10', 'PDIABTST', 'PREDIAB1', 'INSULIN', 'BLDSUGAR',\n       'FEETCHK2', 'DOCTDIAB', 'CHKHEMO3', 'FEETCHK', 'EYEEXAM',\n       'DIABEYE', 'DIABEDU', 'CAREGIV1', 'CRGVREL1', 'CRGVLNG1',\n       'CRGVHRS1', 'CRGVPRB1', 'CRGVPERS', 'CRGVHOUS', 'CRGVMST2',\n       'CRGVEXPT', 'VIDFCLT2', 'VIREDIF3', 'VIPRFVS2', 'VINOCRE2',\n       'VIEYEXM2', 'VIINSUR2', 'VICTRCT4', 'VIGLUMA2', 'VIMACDG2',\n       'CIMEMLOS', 'CDHOUSE', 'CDASSIST', 'CDHELP', 'CDSOCIAL',\n       'CDDISCUS', 'WTCHSALT', 'LONGWTCH', 'DRADVISE', 'ASTHMAGE',\n       'ASATTACK', 'ASERVIST', 'ASDRVIST', 'ASRCHKUP', 'ASACTLIM',\n       'ASYMPTOM', 'ASNOSLEP', 'ASTHMED3', 'ASINHALR', 'HAREHAB1',\n       'STREHAB1', 'CVDASPRN', 'ASPUNSAF', 'RLIVPAIN', 'RDUCHART',\n       'RDUCSTRK', 'ARTTODAY', 'ARTHWGT', 'ARTHEXER', 'ARTHEDU',\n       'TETANUS', 'HPVADVC2', 'HPVADSHT', 'SHINGLE2', 'HADMAM', 'HOWLONG',\n       'HADPAP2', 'LASTPAP2', 'HPVTEST', 'HPLSTTST', 'HADHYST2',\n       'PROFEXAM', 'LENGEXAM', 'BLDSTOOL', 'LSTBLDS3', 'HADSIGM3',\n       'HADSGCO1', 'LASTSIG3', 'PCPSAAD2', 'PCPSADI1', 'PCPSARE1',\n       'PSATEST1', 'PSATIME', 'PCPSARS1', 'PCPSADE1', 'PCDMDECN',\n       'SCNTMNY1', 'SCNTMEL1', 'SCNTPAID', 'SCNTWRK1', 'SCNTLPAD',\n       'SCNTLWK1', 'SXORIENT', 'TRNSGNDR', 'RCSGENDR', 'RCSRLTN2',\n       'CASTHDX2', 'CASTHNO2', 'EMTSUPRT', 'LSATISFY', 'ADPLEASR',\n       'ADDOWN', 'ADSLEEP', 'ADENERGY', 'ADEAT1', 'ADFAIL', 'ADTHINK',\n       'ADMOVE', 'MISTMNT', 'ADANXEV', 'QSTVER', 'QSTLANG', 'MSCODE',\n       '_STSTR', '_STRWT', '_RAWRAKE', '_WT2RAKE', '_CHISPNC', '_CRACE1',\n       '_CPRACE', '_CLLCPWT', '_DUALUSE', '_DUALCOR', '_LLCPWT',\n       '_RFHLTH', '_HCVU651', '_RFHYPE5', '_CHOLCHK', '_RFCHOL',\n       '_LTASTH1', '_CASTHM1', '_ASTHMS1', '_DRDXAR1', '_PRACE1',\n       '_MRACE1', '_HISPANC', '_RACE', '_RACEG21', '_RACEGR3', '_RACE_G1',\n       '_AGEG5YR', '_AGE65YR', '_AGE80', '_AGE_G', 'HTIN4', 'HTM4',\n       'WTKG3', '_BMI5', '_BMI5CAT', '_RFBMI5', '_CHLDCNT', '_EDUCAG',\n       '_INCOMG', '_SMOKER3', '_RFSMOK3', 'DRNKANY5', 'DROCDY3_',\n       '_RFBING5', '_DRNKWEK', '_RFDRHV5', 'FTJUDA1_', 'FRUTDA1_',\n       'BEANDAY_', 'GRENDAY_', 'ORNGDAY_', 'VEGEDA1_', '_MISFRTN',\n       '_MISVEGN', '_FRTRESP', '_VEGRESP', '_FRUTSUM', '_VEGESUM',\n       '_FRTLT1', '_VEGLT1', '_FRT16', '_VEG23', '_FRUITEX', '_VEGETEX',\n       '_TOTINDA', 'METVL11_', 'METVL21_', 'MAXVO2_', 'FC60_', 'ACTIN11_',\n       'ACTIN21_', 'PADUR1_', 'PADUR2_', 'PAFREQ1_', 'PAFREQ2_',\n       '_MINAC11', '_MINAC21', 'STRFREQ_', 'PAMISS1_', 'PAMIN11_',\n       'PAMIN21_', 'PA1MIN_', 'PAVIG11_', 'PAVIG21_', 'PA1VIGM_',\n       '_PACAT1', '_PAINDX1', '_PA150R2', '_PA300R2', '_PA30021',\n       '_PASTRNG', '_PAREC1', '_PASTAE1', '_LMTACT1', '_LMTWRK1',\n       '_LMTSCL1', '_RFSEAT2', '_RFSEAT3', '_FLSHOT6', '_PNEUMO2',\n       '_AIDTST3'], dtype='<U8')"
     },
     "execution_count": 47,
     "metadata": {},
     "output_type": "execute_result"
    }
   ],
   "source": [
    "column_names"
   ],
   "metadata": {
    "collapsed": false,
    "ExecuteTime": {
     "end_time": "2023-10-29T15:33:09.405749Z",
     "start_time": "2023-10-29T15:33:09.401689Z"
    }
   },
   "id": "7fe2ffff4914e00b"
  },
  {
   "cell_type": "markdown",
   "source": [
    "# Data cleaning"
   ],
   "metadata": {
    "collapsed": false
   },
   "id": "6656f7b5488eb210"
  },
  {
   "cell_type": "markdown",
   "source": [
    "## Removing useless features"
   ],
   "metadata": {
    "collapsed": false
   },
   "id": "538932b46cc1b606"
  },
  {
   "cell_type": "code",
   "execution_count": 48,
   "outputs": [],
   "source": [
    "useless_features_names = load_useless_features_file(os.path.join(HELPER_FILES_DIR, \"useless_features_names.csv\"))"
   ],
   "metadata": {
    "collapsed": false,
    "ExecuteTime": {
     "end_time": "2023-10-29T15:33:09.782011Z",
     "start_time": "2023-10-29T15:33:09.781414Z"
    }
   },
   "id": "45d35780d2ec8d89"
  },
  {
   "cell_type": "code",
   "execution_count": 49,
   "outputs": [],
   "source": [
    "useless_columns_indices = np.where(np.in1d(column_names, useless_features_names))[0]"
   ],
   "metadata": {
    "collapsed": false,
    "ExecuteTime": {
     "end_time": "2023-10-29T15:33:09.899143Z",
     "start_time": "2023-10-29T15:33:09.880004Z"
    }
   },
   "id": "72a8a15085e4a415"
  },
  {
   "cell_type": "code",
   "execution_count": 50,
   "outputs": [
    {
     "data": {
      "text/plain": "array(['_STATE', 'FMONTH', 'IDATE', 'IMONTH', 'IDAY', 'IYEAR', 'DISPCODE',\n       'SEQNO', '_PSU', 'CTELENUM', 'PVTRESD1', 'COLGHOUS', 'STATERES',\n       'CELLFON3', 'LADULT', 'NUMADULT', 'NUMMEN', 'NUMWOMEN', 'CTELNUM1',\n       'CELLFON2', 'CADULT', 'PVTRESD2', 'CCLGHOUS', 'CSTATE', 'LANDLINE',\n       'HHADULT', 'GENHLTH', 'PHYSHLTH', 'MENTHLTH', 'POORHLTH',\n       'HLTHPLN1', 'PERSDOC2', 'MEDCOST', 'CHECKUP1', 'BPHIGH4', 'BPMEDS',\n       'BLOODCHO', 'CHOLCHK', 'TOLDHI2', 'CVDSTRK3', 'ASTHMA3', 'ASTHNOW',\n       'CHCSCNCR', 'CHCOCNCR', 'CHCCOPD1', 'HAVARTH3', 'ADDEPEV2',\n       'CHCKIDNY', 'DIABETE3', 'DIABAGE2', 'SEX', 'MARITAL', 'EDUCA',\n       'RENTHOM1', 'NUMHHOL2', 'NUMPHON2', 'CPDEMO1', 'VETERAN3',\n       'EMPLOY1', 'CHILDREN', 'INCOME2', 'INTERNET', 'WEIGHT2', 'HEIGHT3',\n       'PREGNANT', 'QLACTLM2', 'USEEQUIP', 'BLIND', 'DECIDE', 'DIFFWALK',\n       'DIFFDRES', 'DIFFALON', 'SMOKE100', 'SMOKDAY2', 'STOPSMK2',\n       'LASTSMK2', 'USENOW3', 'ALCDAY5', 'AVEDRNK2', 'DRNK3GE5',\n       'MAXDRNKS', 'FRUITJU1', 'FRUIT1', 'FVBEANS', 'FVGREEN', 'FVORANG',\n       'VEGETAB1', 'EXERANY2', 'EXRACT11', 'EXEROFT1', 'EXERHMM1',\n       'EXRACT21', 'EXEROFT2', 'EXERHMM2', 'STRENGTH', 'LMTJOIN3',\n       'ARTHDIS2', 'ARTHSOCL', 'JOINPAIN', 'SEATBELT', 'FLUSHOT6',\n       'FLSHTMY2', 'IMFVPLAC', 'PNEUVAC3', 'HIVTST6', 'HIVTSTD3',\n       'WHRTST10', 'PDIABTST', 'PREDIAB1', 'INSULIN', 'BLDSUGAR',\n       'FEETCHK2', 'DOCTDIAB', 'CHKHEMO3', 'FEETCHK', 'EYEEXAM',\n       'DIABEYE', 'DIABEDU', 'CAREGIV1', 'CRGVREL1', 'CRGVLNG1',\n       'CRGVHRS1', 'CRGVPRB1', 'CRGVPERS', 'CRGVHOUS', 'CRGVMST2',\n       'CRGVEXPT', 'VIDFCLT2', 'VIREDIF3', 'VIPRFVS2', 'VINOCRE2',\n       'VIEYEXM2', 'VIINSUR2', 'VICTRCT4', 'VIGLUMA2', 'VIMACDG2',\n       'CIMEMLOS', 'CDHOUSE', 'CDASSIST', 'CDHELP', 'CDSOCIAL',\n       'CDDISCUS', 'WTCHSALT', 'LONGWTCH', 'DRADVISE', 'ASTHMAGE',\n       'ASATTACK', 'ASERVIST', 'ASDRVIST', 'ASRCHKUP', 'ASACTLIM',\n       'ASYMPTOM', 'ASNOSLEP', 'ASTHMED3', 'ASINHALR', 'HAREHAB1',\n       'STREHAB1', 'CVDASPRN', 'ASPUNSAF', 'RLIVPAIN', 'RDUCHART',\n       'RDUCSTRK', 'ARTTODAY', 'ARTHWGT', 'ARTHEXER', 'ARTHEDU',\n       'TETANUS', 'HPVADVC2', 'HPVADSHT', 'SHINGLE2', 'HADMAM', 'HOWLONG',\n       'HADPAP2', 'LASTPAP2', 'HPVTEST', 'HPLSTTST', 'HADHYST2',\n       'PROFEXAM', 'LENGEXAM', 'BLDSTOOL', 'LSTBLDS3', 'HADSIGM3',\n       'HADSGCO1', 'LASTSIG3', 'PCPSAAD2', 'PCPSADI1', 'PCPSARE1',\n       'PSATEST1', 'PSATIME', 'PCPSARS1', 'PCPSADE1', 'PCDMDECN',\n       'SCNTMNY1', 'SCNTMEL1', 'SCNTPAID', 'SCNTWRK1', 'SCNTLPAD',\n       'SCNTLWK1', 'SXORIENT', 'TRNSGNDR', 'RCSGENDR', 'RCSRLTN2',\n       'CASTHDX2', 'CASTHNO2', 'EMTSUPRT', 'LSATISFY', 'ADPLEASR',\n       'ADDOWN', 'ADSLEEP', 'ADENERGY', 'ADEAT1', 'ADFAIL', 'ADTHINK',\n       'ADMOVE', 'MISTMNT', 'ADANXEV', 'QSTVER', 'QSTLANG', 'MSCODE',\n       '_STSTR', '_STRWT', '_RAWRAKE', '_WT2RAKE', '_CHISPNC', '_CRACE1',\n       '_CPRACE', '_CLLCPWT', '_DUALUSE', '_DUALCOR', '_LLCPWT',\n       '_RFHLTH', '_HCVU651', '_RFHYPE5', '_CHOLCHK', '_RFCHOL',\n       '_LTASTH1', '_CASTHM1', '_ASTHMS1', '_DRDXAR1', '_PRACE1',\n       '_MRACE1', '_HISPANC', '_RACE', '_RACEG21', '_RACEGR3', '_RACE_G1',\n       '_AGEG5YR', '_AGE65YR', '_AGE80', '_AGE_G', 'HTIN4', 'HTM4',\n       'WTKG3', '_BMI5', '_BMI5CAT', '_RFBMI5', '_CHLDCNT', '_EDUCAG',\n       '_INCOMG', '_SMOKER3', '_RFSMOK3', 'DRNKANY5', 'DROCDY3_',\n       '_RFBING5', '_DRNKWEK', '_RFDRHV5', 'FTJUDA1_', 'FRUTDA1_',\n       'BEANDAY_', 'GRENDAY_', 'ORNGDAY_', 'VEGEDA1_', '_MISFRTN',\n       '_MISVEGN', '_FRTRESP', '_VEGRESP', '_FRUTSUM', '_VEGESUM',\n       '_FRTLT1', '_VEGLT1', '_FRT16', '_VEG23', '_FRUITEX', '_VEGETEX',\n       '_TOTINDA', 'METVL11_', 'METVL21_', 'MAXVO2_', 'FC60_', 'ACTIN11_',\n       'ACTIN21_', 'PADUR1_', 'PADUR2_', 'PAFREQ1_', 'PAFREQ2_',\n       '_MINAC11', '_MINAC21', 'STRFREQ_', 'PAMISS1_', 'PAMIN11_',\n       'PAMIN21_', 'PA1MIN_', 'PAVIG11_', 'PAVIG21_', 'PA1VIGM_',\n       '_PACAT1', '_PAINDX1', '_PA150R2', '_PA300R2', '_PA30021',\n       '_PASTRNG', '_PAREC1', '_PASTAE1', '_LMTACT1', '_LMTWRK1',\n       '_LMTSCL1', '_RFSEAT2', '_RFSEAT3', '_FLSHOT6', '_PNEUMO2',\n       '_AIDTST3'], dtype='<U8')"
     },
     "execution_count": 50,
     "metadata": {},
     "output_type": "execute_result"
    }
   ],
   "source": [
    "column_names"
   ],
   "metadata": {
    "collapsed": false,
    "ExecuteTime": {
     "end_time": "2023-10-29T15:33:09.985354Z",
     "start_time": "2023-10-29T15:33:09.979051Z"
    }
   },
   "id": "8b2067ddd5490c2e"
  },
  {
   "cell_type": "code",
   "execution_count": 51,
   "outputs": [],
   "source": [
    "x_train = np.delete(x_train, useless_columns_indices, axis=1)\n",
    "x_test = np.delete(x_test, useless_columns_indices, axis=1)\n",
    "column_names = np.delete(column_names, useless_columns_indices)"
   ],
   "metadata": {
    "collapsed": false,
    "ExecuteTime": {
     "end_time": "2023-10-29T15:33:11.169661Z",
     "start_time": "2023-10-29T15:33:10.109237Z"
    }
   },
   "id": "bc5ec5b6326f8c0"
  },
  {
   "cell_type": "markdown",
   "source": [
    "## Normalizing data, removing nans and outliers"
   ],
   "metadata": {
    "collapsed": false
   },
   "id": "4dc682788d5998cd"
  },
  {
   "cell_type": "code",
   "execution_count": 52,
   "outputs": [],
   "source": [
    "def clean_outliers(data):\n",
    "   \"\"\"\n",
    "   Cleans the dataset from outliers.\n",
    "   The first quantile and last quantile outliers are replaced by the median without outliers.\n",
    "   \"\"\"\n",
    "   cleaned_data = np.copy(data)\n",
    "  \n",
    "   for i in range(data.shape[1]):  # Iterate over features/columns\n",
    "       feature = data[:, i]\n",
    "      \n",
    "       # Compute the first and last 3% and IQR\n",
    "       Q1 = np.nanpercentile(feature, 3)\n",
    "       Q3 = np.nanpercentile(feature, 97)\n",
    "       IQR = Q3 - Q1\n",
    "      \n",
    "       # Identify the outliers\n",
    "       outlier_mask = (feature < (Q1 - 1.5 * IQR)) | (feature > (Q3 + 1.5 * IQR))\n",
    "      \n",
    "       # Compute the median of the data without outliers\n",
    "       median_without_outliers = np.nanmedian(feature[~outlier_mask])\n",
    "      \n",
    "       # Replace outliers with this median\n",
    "       cleaned_data[outlier_mask, i] = median_without_outliers\n",
    "      \n",
    "   return cleaned_data\n"
   ],
   "metadata": {
    "collapsed": false,
    "ExecuteTime": {
     "end_time": "2023-10-29T15:33:11.176610Z",
     "start_time": "2023-10-29T15:33:11.169594Z"
    }
   },
   "id": "19e01d8df6d970b9"
  },
  {
   "cell_type": "code",
   "execution_count": 53,
   "outputs": [],
   "source": [
    "x_train = clean_outliers(x_train)\n",
    "x_test = clean_outliers(x_test)"
   ],
   "metadata": {
    "collapsed": false,
    "ExecuteTime": {
     "end_time": "2023-10-29T15:33:14.055634Z",
     "start_time": "2023-10-29T15:33:11.174819Z"
    }
   },
   "id": "588add4f1085d258"
  },
  {
   "cell_type": "code",
   "execution_count": 69,
   "outputs": [
    {
     "data": {
      "text/plain": "array([[-5.13164612e-01, -1.61190630e+00, -1.66692700e+00, ...,\n         0.00000000e+00,  5.37176464e-16,  2.44635873e-02],\n       [ 1.28108930e+00,  7.36126946e-01,  6.49440401e-01, ...,\n         0.00000000e+00,  5.37176464e-16,  0.00000000e+00],\n       [-5.13164612e-01,  4.39249180e-01,  3.42451951e-01, ...,\n        -8.59212775e-01, -2.46031587e-01,  2.44635873e-02],\n       ...,\n       [ 3.83962342e-01,  7.36126946e-01, -1.77855916e+00, ...,\n        -1.93109791e-01, -2.46031587e-01,  2.44635873e-02],\n       [ 3.83962342e-01,  7.36126946e-01,  6.49440401e-01, ...,\n         0.00000000e+00,  5.37176464e-16,  2.44635873e-02],\n       [-5.13164612e-01, -1.44997297e+00, -1.61111091e+00, ...,\n         0.00000000e+00,  5.37176464e-16,  2.44635873e-02]])"
     },
     "execution_count": 69,
     "metadata": {},
     "output_type": "execute_result"
    }
   ],
   "source": [
    "x_train"
   ],
   "metadata": {
    "collapsed": false,
    "ExecuteTime": {
     "end_time": "2023-10-29T15:39:58.823854Z",
     "start_time": "2023-10-29T15:39:58.797132Z"
    }
   },
   "id": "e9b3aaa40c58e9b1"
  },
  {
   "cell_type": "code",
   "execution_count": 72,
   "outputs": [],
   "source": [
    "def remove_small_variance_features(data):\n",
    "    cleaned_data = np.copy(data)\n",
    "    # Calculate the variance for each feature\n",
    "    variances = np.var(cleaned_data, axis=0)\n",
    "    means = np.mean(cleaned_data, axis=0)\n",
    "    print(means)\n",
    "    \n",
    "    # Set your threshold for variance (e.g., 0.01)\n",
    "    threshold = 0.01\n",
    "    \n",
    "    # Find feature indices that meet the threshold\n",
    "    features_to_keep = (variances/means) > threshold\n",
    "    \n",
    "    # Keep only the features with variance above the threshold\n",
    "    data_reduced = cleaned_data[:, features_to_keep]\n",
    "    \n",
    "    return data_reduced\n",
    "        \n",
    "        "
   ],
   "metadata": {
    "collapsed": false,
    "ExecuteTime": {
     "end_time": "2023-10-29T15:41:30.042313Z",
     "start_time": "2023-10-29T15:41:30.034721Z"
    }
   },
   "id": "fb05f3f9491a13ea"
  },
  {
   "cell_type": "code",
   "execution_count": 73,
   "outputs": [
    {
     "name": "stdout",
     "output_type": "stream",
     "text": [
      "[-2.64024220e-16 -1.20214754e-16  1.04220586e-16  5.72617737e-16\n",
      "  1.28559654e-16  9.98085881e-17 -5.52934273e-17  9.65225972e-17\n",
      "  1.35792082e-16 -8.62965072e-16  3.38386680e-16 -8.34111149e-17\n",
      "  6.22660075e-17 -3.16878869e-17  2.68815163e-16 -1.88389590e-18\n",
      " -4.04701981e-16 -8.14460166e-18 -3.46355343e-16  7.73804826e-17\n",
      " -3.87173088e-17 -1.76912982e-17 -4.31444641e-16  1.09572366e-15\n",
      " -8.56198204e-17  1.14549532e-16  1.85455476e-16 -5.34095314e-17\n",
      " -2.40574589e-15 -5.59180362e-15  5.36823715e-16 -1.11712861e-16\n",
      "  1.65111566e-17  2.83667083e-17 -1.46229299e-16 -4.00436148e-16\n",
      " -5.06053415e-17  3.84499904e-15 -2.95206487e-15  1.53862325e-16\n",
      " -9.72101110e-16  1.21435496e-16  1.26585353e-15 -1.03686003e-15\n",
      " -2.43142750e-15 -5.63912838e-16 -4.08902853e-16 -9.78045126e-16\n",
      " -1.28181793e-15 -1.20720915e-15 -5.27880623e-16 -2.08787635e-16\n",
      "  2.92301606e-16 -5.68466940e-16 -3.65302572e-17 -6.53295037e-16\n",
      "  7.46574952e-17  6.92992188e-16 -5.96377562e-16 -1.09607012e-16\n",
      " -1.07317104e-16 -1.25879975e-16 -4.01767867e-16  9.56347842e-17\n",
      "  7.53991438e-17 -7.90315983e-16 -1.64517164e-15  3.79004125e-16\n",
      "  1.11063242e-16  1.73720374e-15 -8.57930522e-16  6.52813236e-17\n",
      "  1.09902048e-15 -5.29764519e-16 -1.18923635e-16 -4.80620820e-16\n",
      " -2.70544774e-16  2.60930409e-17  2.04061655e-16  6.40632875e-16\n",
      "  6.88672220e-16  4.13569284e-16  1.64385075e-15  9.12429249e-15\n",
      "  3.68577736e-16  7.75948570e-16  2.51781604e-16 -6.92396704e-16\n",
      "  3.50881024e-16 -2.40642799e-15  4.47250690e-15 -3.52424953e-15\n",
      "  2.08426014e-15 -7.30962435e-16 -2.48214382e-15 -1.06987964e-15\n",
      " -1.75232634e-15 -5.57346541e-15 -4.58251181e-15 -2.91401883e-15\n",
      "  7.59404932e-16  3.05975009e-15 -9.73681850e-15  4.95288953e-15\n",
      " -2.55079816e-14  4.40703881e-15  5.31893104e-15 -2.50319961e-17\n",
      " -3.39480206e-17 -6.74140454e-14 -1.48117525e-15  5.64684803e-15\n",
      " -4.08816237e-15 -1.07145875e-14 -3.66058837e-15 -2.62205828e-15\n",
      "  5.65710118e-17 -7.73915261e-15 -3.25544790e-15 -8.71255884e-15\n",
      " -3.45675633e-14 -2.01155214e-14 -5.63003371e-19 -8.77266093e-15\n",
      "  2.43001340e-14  8.27468828e-15 -2.20870553e-18 -8.05466780e-15\n",
      " -2.18738241e-14  7.36235178e-18 -3.08569156e-18 -1.16479605e-14\n",
      " -4.67781637e-15 -4.82099787e-15  5.58356428e-15  2.51118451e-15\n",
      "  4.38605611e-15  2.10969814e-15 -6.34123690e-15 -6.22359085e-15\n",
      "  1.79943186e-15  3.56292353e-15 -1.10621501e-15  1.96208840e-15\n",
      "  5.99382051e-17  7.95025722e-16 -8.24852450e-15 -7.18911997e-18\n",
      "  9.67932719e-18  3.85401793e-15  8.77649715e-15  1.82453802e-14\n",
      " -1.52184142e-15  1.37043682e-15  1.16143265e-15 -1.40569491e-15\n",
      "  3.87335493e-15 -2.91137705e-17  5.70101545e-15  4.45867340e-15\n",
      "  4.42750453e-15 -1.42513476e-15  3.30913352e-15  2.47938023e-18\n",
      "  2.17073076e-14  6.92005054e-15 -1.73065071e-15 -3.71636360e-15\n",
      "  8.41430193e-16  3.05276668e-15  8.45457832e-16 -1.01341690e-15\n",
      "  5.45041399e-16  1.08986626e-15 -3.56467750e-16 -8.33136720e-18\n",
      " -3.91584544e-15  7.40565973e-18 -3.37752219e-15  2.64033423e-15\n",
      "  7.37193367e-15 -2.49564237e-15  8.44320998e-16  5.18707999e-15\n",
      "  2.09255361e-15  3.91747490e-17 -2.58685162e-15 -2.89998706e-15\n",
      " -4.84832519e-17 -1.02033534e-16 -5.00964731e-17  3.87811880e-16\n",
      "  1.12503231e-16  2.81149809e-16 -4.92249005e-16  1.09439194e-16\n",
      " -1.46664544e-15  3.96852415e-16  3.96852415e-16 -2.35251500e-16\n",
      " -5.06703034e-18 -9.85553642e-16 -7.03537675e-17  7.29468311e-17\n",
      "  7.06677501e-17 -1.50516786e-16 -2.28882524e-17 -6.22660075e-17\n",
      " -2.68815163e-16  1.90284313e-17 -1.77546361e-16 -2.87077585e-16\n",
      " -1.08789575e-16 -1.60780771e-18  2.09123272e-16  1.37784248e-16\n",
      " -1.56877641e-16 -9.31120961e-19  1.60845732e-16 -4.19762321e-17\n",
      "  1.58398833e-16 -1.86310808e-16  4.85373868e-17 -3.97735626e-15\n",
      " -1.21011349e-15  7.14667818e-16  1.84093441e-15 -8.63127476e-17\n",
      "  1.22344963e-17  5.63003371e-19  1.25939523e-16  5.50010986e-18\n",
      " -4.06012047e-17  1.22561503e-17 -6.85348335e-18 -5.97446727e-18\n",
      " -6.95336231e-17  1.40561371e-17 -1.64353677e-17  1.77462452e-16\n",
      " -2.89113058e-16 -2.54390908e-16 -1.11041588e-16  7.00100106e-18\n",
      "  6.56115468e-18  2.67210062e-17  2.59847710e-17  4.80068644e-17\n",
      " -1.01178202e-17  5.42540364e-17 -2.68709600e-16 -3.13766110e-17\n",
      "  5.22618707e-17 -7.04620373e-17 -3.63570254e-17  5.80164147e-17\n",
      " -4.44409959e-16 -2.08224632e-16 -3.31132598e-16 -1.24337129e-16\n",
      "  8.41408539e-16 -1.48784468e-16  2.45729318e-16  6.39117096e-17\n",
      " -1.77725007e-17  2.10855590e-16 -9.63385384e-17 -2.87932917e-16\n",
      "  1.36078998e-16 -2.98608327e-17 -1.36896435e-16 -7.31904383e-18\n",
      "  1.42353237e-16 -1.23977132e-16 -1.05021783e-17 -1.74828787e-17\n",
      " -5.50660605e-17 -4.81800962e-18 -1.23579240e-16  9.69556768e-18\n",
      "  8.73954464e-17  6.69378528e-17  6.16921771e-17  7.53666629e-17\n",
      "  4.50857431e-16 -1.99465598e-16  4.10670358e-16 -5.48603478e-17\n",
      "  2.92112134e-17  3.12250331e-17  5.22770284e-16  1.25972004e-17]\n"
     ]
    },
    {
     "data": {
      "text/plain": "array([[-1.66692700e+00,  1.18089740e+00, -2.79395064e-01, ...,\n         0.00000000e+00,  5.37176464e-16,  2.44635873e-02],\n       [ 6.49440401e-01,  5.20900978e-16, -2.79395064e-01, ...,\n         0.00000000e+00,  5.37176464e-16,  0.00000000e+00],\n       [ 3.42451951e-01,  1.18089740e+00, -2.79395064e-01, ...,\n        -8.59212775e-01, -2.46031587e-01,  2.44635873e-02],\n       ...,\n       [-1.77855916e+00,  1.18089740e+00, -2.79395064e-01, ...,\n        -1.93109791e-01, -2.46031587e-01,  2.44635873e-02],\n       [ 6.49440401e-01,  5.20900978e-16, -2.79395064e-01, ...,\n         0.00000000e+00,  5.37176464e-16,  2.44635873e-02],\n       [-1.61111091e+00, -1.97144530e+00, -2.79395064e-01, ...,\n         0.00000000e+00,  5.37176464e-16,  2.44635873e-02]])"
     },
     "execution_count": 73,
     "metadata": {},
     "output_type": "execute_result"
    }
   ],
   "source": [
    "remove_small_variance_features(x_train)"
   ],
   "metadata": {
    "collapsed": false,
    "ExecuteTime": {
     "end_time": "2023-10-29T15:41:30.882653Z",
     "start_time": "2023-10-29T15:41:30.239457Z"
    }
   },
   "id": "d9a2956890a82963"
  },
  {
   "cell_type": "code",
   "execution_count": 54,
   "outputs": [],
   "source": [
    "x_train_averages = np.nanmean(x_train, axis=0)\n",
    "x_test_averages = np.nanmean(x_test, axis=0)"
   ],
   "metadata": {
    "collapsed": false,
    "ExecuteTime": {
     "end_time": "2023-10-29T15:33:14.760139Z",
     "start_time": "2023-10-29T15:33:14.057487Z"
    }
   },
   "id": "fdc5e591a2408556"
  },
  {
   "cell_type": "code",
   "execution_count": 55,
   "outputs": [],
   "source": [
    "# Replace nan values with the computed means for each feature\n",
    "for i in range(x_train.shape[1]):\n",
    "   x_train[np.isnan(x_train[:, i]), i] = x_train_averages[i]\n",
    "   \n",
    "# Replace nan values with the computed means for each feature\n",
    "for i in range(x_test.shape[1]):\n",
    "   x_test[np.isnan(x_test[:, i]), i] = x_test_averages[i]\n"
   ],
   "metadata": {
    "collapsed": false,
    "ExecuteTime": {
     "end_time": "2023-10-29T15:33:15.166011Z",
     "start_time": "2023-10-29T15:33:14.762827Z"
    }
   },
   "id": "b89aead74db41325"
  },
  {
   "cell_type": "code",
   "execution_count": 56,
   "outputs": [],
   "source": [
    "x_train_std_dev = np.std(x_train, axis=0)\n",
    "x_train = np.delete(x_train, np.where(x_train_std_dev == 0), axis=1)\n",
    "x_test = np.delete(x_test, np.where(x_train_std_dev == 0), axis=1)\n",
    "x_test_std_dev = np.std(x_test, axis=0)\n",
    "x_train = np.delete(x_train, np.where(x_test_std_dev == 0), axis=1)\n",
    "x_test = np.delete(x_test, np.where(x_test_std_dev == 0), axis=1)"
   ],
   "metadata": {
    "collapsed": false,
    "ExecuteTime": {
     "end_time": "2023-10-29T15:33:16.228635Z",
     "start_time": "2023-10-29T15:33:15.168442Z"
    }
   },
   "id": "bb300b9c1d22d4d9"
  },
  {
   "cell_type": "code",
   "execution_count": 57,
   "outputs": [],
   "source": [
    "# Z-score normalization\n",
    "def z_score_normalization(data):\n",
    "   mean_vals = np.mean(data, axis=0)\n",
    "   std_dev = np.std(data, axis=0)\n",
    "   return (data - mean_vals) / std_dev\n",
    "\n",
    "\n",
    "x_train = z_score_normalization(x_train)\n",
    "x_test = z_score_normalization(x_test)"
   ],
   "metadata": {
    "collapsed": false,
    "ExecuteTime": {
     "end_time": "2023-10-29T15:33:17.283699Z",
     "start_time": "2023-10-29T15:33:16.230103Z"
    }
   },
   "id": "3c081ef5489d6b3a"
  },
  {
   "cell_type": "code",
   "execution_count": 58,
   "outputs": [
    {
     "data": {
      "text/plain": "array([[-5.13164612e-01, -1.61190630e+00, -1.66692700e+00, ...,\n         0.00000000e+00,  5.37176464e-16,  2.44635873e-02],\n       [ 1.28108930e+00,  7.36126946e-01,  6.49440401e-01, ...,\n         0.00000000e+00,  5.37176464e-16,  0.00000000e+00],\n       [-5.13164612e-01,  4.39249180e-01,  3.42451951e-01, ...,\n        -8.59212775e-01, -2.46031587e-01,  2.44635873e-02],\n       ...,\n       [ 3.83962342e-01,  7.36126946e-01, -1.77855916e+00, ...,\n        -1.93109791e-01, -2.46031587e-01,  2.44635873e-02],\n       [ 3.83962342e-01,  7.36126946e-01,  6.49440401e-01, ...,\n         0.00000000e+00,  5.37176464e-16,  2.44635873e-02],\n       [-5.13164612e-01, -1.44997297e+00, -1.61111091e+00, ...,\n         0.00000000e+00,  5.37176464e-16,  2.44635873e-02]])"
     },
     "execution_count": 58,
     "metadata": {},
     "output_type": "execute_result"
    }
   ],
   "source": [
    "x_train"
   ],
   "metadata": {
    "collapsed": false,
    "ExecuteTime": {
     "end_time": "2023-10-29T15:33:17.290041Z",
     "start_time": "2023-10-29T15:33:17.284554Z"
    }
   },
   "id": "57f3505b000bd266"
  },
  {
   "cell_type": "markdown",
   "source": [
    "# Machine learning"
   ],
   "metadata": {
    "collapsed": false
   },
   "id": "1918b150130705f4"
  },
  {
   "cell_type": "markdown",
   "source": [
    "## Splitting train sets in two"
   ],
   "metadata": {
    "collapsed": false
   },
   "id": "36be3f3fb8584de8"
  },
  {
   "cell_type": "code",
   "execution_count": 59,
   "outputs": [],
   "source": [
    "x_train1, x_test1, y_train1, y_test1 = train_test_split(x_train, y_train, test_size=0.33, random_state=42)"
   ],
   "metadata": {
    "collapsed": false,
    "ExecuteTime": {
     "end_time": "2023-10-29T15:33:17.864762Z",
     "start_time": "2023-10-29T15:33:17.288524Z"
    }
   },
   "id": "f742b6f5e97fa4fc"
  },
  {
   "cell_type": "code",
   "execution_count": 60,
   "outputs": [
    {
     "data": {
      "text/plain": "'\\n# Ridge Regression\\nbest_f1_score = [0,0,0,0,0]\\nbest_accuracy = [0,0,0,0,0]\\nbest_total = [0,0,0,0,0]\\nlambda_value = [0,0,0,0,0]\\nfor lambda_ in [0.00001, 0.0001, 0.001, 0.01, 0.1]:\\n    w, loss = ridge_regression(y_train1, x_train1, lambda_)\\n    y_pred1 = x_test1 @ w\\n    y_pred1[y_pred1 >= 0] = 1\\n    y_pred1[y_pred1 < 0] = -1\\n    f1 = f1_score(y_test1, y_pred1)\\n    accuracy = accuracy_score(y_test1,y_pred1)\\n    total = f1 + accuracy\\n    if total > min(best_total):\\n        index = best_total.index(min(best_total))\\n        best_total[index] = total\\n        best_accuracy[index] = accuracy\\n        best_f1_score[index] = f1\\n        lambda_value[index] = lambda_\\n\\n    \\nprint(f\"F1_score: {best_f1_score}\")\\nprint(f\"Accuracy: {best_accuracy}\")\\nprint(f\"lambda values: {lambda_value}\")\\n'"
     },
     "execution_count": 60,
     "metadata": {},
     "output_type": "execute_result"
    }
   ],
   "source": [
    "\"\"\"\n",
    "# Ridge Regression\n",
    "best_f1_score = [0,0,0,0,0]\n",
    "best_accuracy = [0,0,0,0,0]\n",
    "best_total = [0,0,0,0,0]\n",
    "lambda_value = [0,0,0,0,0]\n",
    "for lambda_ in [0.00001, 0.0001, 0.001, 0.01, 0.1]:\n",
    "    w, loss = ridge_regression(y_train1, x_train1, lambda_)\n",
    "    y_pred1 = x_test1 @ w\n",
    "    y_pred1[y_pred1 >= 0] = 1\n",
    "    y_pred1[y_pred1 < 0] = -1\n",
    "    f1 = f1_score(y_test1, y_pred1)\n",
    "    accuracy = accuracy_score(y_test1,y_pred1)\n",
    "    total = f1 + accuracy\n",
    "    if total > min(best_total):\n",
    "        index = best_total.index(min(best_total))\n",
    "        best_total[index] = total\n",
    "        best_accuracy[index] = accuracy\n",
    "        best_f1_score[index] = f1\n",
    "        lambda_value[index] = lambda_\n",
    "\n",
    "    \n",
    "print(f\"F1_score: {best_f1_score}\")\n",
    "print(f\"Accuracy: {best_accuracy}\")\n",
    "print(f\"lambda values: {lambda_value}\")\n",
    "\"\"\""
   ],
   "metadata": {
    "collapsed": false,
    "ExecuteTime": {
     "end_time": "2023-10-29T15:33:17.871501Z",
     "start_time": "2023-10-29T15:33:17.868550Z"
    }
   },
   "id": "e5328ba73177132"
  },
  {
   "cell_type": "code",
   "execution_count": 61,
   "outputs": [
    {
     "data": {
      "text/plain": "'\\nw, loss = ridge_regression(y_train1, x_train1, lambda_/10000)\\ny_pred1 = x_test1 @ w\\ny_pred1[y_pred1 >= 0.23] = 1\\ny_pred1[y_pred1 < 0.23] = -1\\nf1 = f1_score(y_test1, y_pred1)\\naccuracy = accuracy_score(y_test1,y_pred1)\\nprint(f\"F1_score: {f1}\")\\nprint(f\"Accuracy: {accuracy}\")\\n'"
     },
     "execution_count": 61,
     "metadata": {},
     "output_type": "execute_result"
    }
   ],
   "source": [
    "\"\"\"\n",
    "w, loss = ridge_regression(y_train1, x_train1, lambda_/10000)\n",
    "y_pred1 = x_test1 @ w\n",
    "y_pred1[y_pred1 >= 0.23] = 1\n",
    "y_pred1[y_pred1 < 0.23] = -1\n",
    "f1 = f1_score(y_test1, y_pred1)\n",
    "accuracy = accuracy_score(y_test1,y_pred1)\n",
    "print(f\"F1_score: {f1}\")\n",
    "print(f\"Accuracy: {accuracy}\")\n",
    "\"\"\""
   ],
   "metadata": {
    "collapsed": false,
    "ExecuteTime": {
     "end_time": "2023-10-29T15:33:17.877436Z",
     "start_time": "2023-10-29T15:33:17.872636Z"
    }
   },
   "id": "e41e7938bdb83673"
  },
  {
   "cell_type": "code",
   "execution_count": 62,
   "outputs": [
    {
     "data": {
      "text/plain": "'\\n# Logistic Regression\\nbest_f1_score = [0,0,0,0,0]\\nbest_accuracy = [0,0,0,0,0]\\nbest_total = [0,0,0,0,0]\\nbest_max_iters = [0,0,0,0,0]\\nbest_gamma = [0,0,0,0,0]\\ninitial_w = np.zeros(x_train1.shape[1])\\nfor gamma in [0.0001, 0.001, 0.01, 0.1]:\\n    for max_iters in [1000, 5000, 10000]:\\n        w, loss = logistic_regression(y_train1, x_train1, initial_w, max_iters, gamma)\\n        y_pred1 = x_test1 @ w\\n        y_pred1[y_pred1 >= 0] = 1\\n        y_pred1[y_pred1 < 0] = -1\\n        f1 = f1_score(y_test1, y_pred1)\\n        accuracy = accuracy_score(y_test1,y_pred1)\\n        total = f1 + accuracy\\n        if total > min(best_total):\\n            index = best_total.index(min(best_total))\\n            best_total[index] = total\\n            best_accuracy[index] = accuracy\\n            best_f1_score[index] = f1\\n            best_gamma[index] = gamma\\n            best_max_iters[index] = max_iters\\n        if max_iters == 10000:\\n            print(f\"Gamma = {gamma} done...\")\\n\\n    \\nprint(f\"F1_score: {best_f1_score}\")\\nprint(f\"Accuracy: {best_accuracy}\")\\nprint(f\"Max iters: {best_max_iters}\")\\nprint(f\"Gamma: {best_gamma}\")\\n'"
     },
     "execution_count": 62,
     "metadata": {},
     "output_type": "execute_result"
    }
   ],
   "source": [
    "\"\"\"\n",
    "# Logistic Regression\n",
    "best_f1_score = [0,0,0,0,0]\n",
    "best_accuracy = [0,0,0,0,0]\n",
    "best_total = [0,0,0,0,0]\n",
    "best_max_iters = [0,0,0,0,0]\n",
    "best_gamma = [0,0,0,0,0]\n",
    "initial_w = np.zeros(x_train1.shape[1])\n",
    "for gamma in [0.0001, 0.001, 0.01, 0.1]:\n",
    "    for max_iters in [1000, 5000, 10000]:\n",
    "        w, loss = logistic_regression(y_train1, x_train1, initial_w, max_iters, gamma)\n",
    "        y_pred1 = x_test1 @ w\n",
    "        y_pred1[y_pred1 >= 0] = 1\n",
    "        y_pred1[y_pred1 < 0] = -1\n",
    "        f1 = f1_score(y_test1, y_pred1)\n",
    "        accuracy = accuracy_score(y_test1,y_pred1)\n",
    "        total = f1 + accuracy\n",
    "        if total > min(best_total):\n",
    "            index = best_total.index(min(best_total))\n",
    "            best_total[index] = total\n",
    "            best_accuracy[index] = accuracy\n",
    "            best_f1_score[index] = f1\n",
    "            best_gamma[index] = gamma\n",
    "            best_max_iters[index] = max_iters\n",
    "        if max_iters == 10000:\n",
    "            print(f\"Gamma = {gamma} done...\")\n",
    "\n",
    "    \n",
    "print(f\"F1_score: {best_f1_score}\")\n",
    "print(f\"Accuracy: {best_accuracy}\")\n",
    "print(f\"Max iters: {best_max_iters}\")\n",
    "print(f\"Gamma: {best_gamma}\")\n",
    "\"\"\""
   ],
   "metadata": {
    "collapsed": false,
    "ExecuteTime": {
     "end_time": "2023-10-29T15:33:17.879849Z",
     "start_time": "2023-10-29T15:33:17.876447Z"
    }
   },
   "id": "9e735a42a434fae9"
  },
  {
   "cell_type": "code",
   "execution_count": 63,
   "outputs": [
    {
     "data": {
      "text/plain": "'\\n# Reg Logistic regression\\nbest_f1_score = [0,0,0,0,0]\\nbest_accuracy = [0,0,0,0,0]\\nbest_total = [0,0,0,0,0]\\nlambda_value = [0,0,0,0,0]\\nbest_max_iters = [0,0,0,0,0]\\nbest_gamma = [0,0,0,0,0]\\ninitial_w = np.zeros(x_train1.shape[1])\\nfor lambda_ in [0.0001, 0.001, 0.01, 0.1]:\\n    for max_iters in [1000, 5000, 10000]:\\n        for gamma in [0.0001, 0.001, 0.01, 0.1]:\\n            w, loss = reg_logistic_regression(y_train1, x_train1, lambda_, initial_w, max_iters, gamma)\\n            y_pred1 = x_test1 @ w\\n            y_pred1[y_pred1 >= 0] = 1\\n            y_pred1[y_pred1 < 0] = -1\\n            f1 = f1_score(y_test1, y_pred1)\\n            accuracy = accuracy_score(y_test1,y_pred1)\\n            total = f1 + accuracy\\n            if total > min(best_total):\\n                index = best_total.index(min(best_total))\\n                best_total[index] = total\\n                best_accuracy[index] = accuracy\\n                best_f1_score[index] = f1\\n                lambda_value[index] = lambda_\\n                best_max_iters[index] = max_iters\\n                best_gamma[index] = gamma\\n            if max_iters == 10000 and gamma == 0.1:\\n                print(f\"Lambda = {lambda_} done...\")\\n\\nprint(f\"F1_score: {best_f1_score}\")\\nprint(f\"Accuracy: {best_accuracy}\")\\nprint(f\"lambda values: {lambda_value}\")\\nprint(f\"Max iters: {best_max_iters}\")\\nprint(f\"Gamma: {best_gamma}\")\\n'"
     },
     "execution_count": 63,
     "metadata": {},
     "output_type": "execute_result"
    }
   ],
   "source": [
    "\"\"\"\n",
    "# Reg Logistic regression\n",
    "best_f1_score = [0,0,0,0,0]\n",
    "best_accuracy = [0,0,0,0,0]\n",
    "best_total = [0,0,0,0,0]\n",
    "lambda_value = [0,0,0,0,0]\n",
    "best_max_iters = [0,0,0,0,0]\n",
    "best_gamma = [0,0,0,0,0]\n",
    "initial_w = np.zeros(x_train1.shape[1])\n",
    "for lambda_ in [0.0001, 0.001, 0.01, 0.1]:\n",
    "    for max_iters in [1000, 5000, 10000]:\n",
    "        for gamma in [0.0001, 0.001, 0.01, 0.1]:\n",
    "            w, loss = reg_logistic_regression(y_train1, x_train1, lambda_, initial_w, max_iters, gamma)\n",
    "            y_pred1 = x_test1 @ w\n",
    "            y_pred1[y_pred1 >= 0] = 1\n",
    "            y_pred1[y_pred1 < 0] = -1\n",
    "            f1 = f1_score(y_test1, y_pred1)\n",
    "            accuracy = accuracy_score(y_test1,y_pred1)\n",
    "            total = f1 + accuracy\n",
    "            if total > min(best_total):\n",
    "                index = best_total.index(min(best_total))\n",
    "                best_total[index] = total\n",
    "                best_accuracy[index] = accuracy\n",
    "                best_f1_score[index] = f1\n",
    "                lambda_value[index] = lambda_\n",
    "                best_max_iters[index] = max_iters\n",
    "                best_gamma[index] = gamma\n",
    "            if max_iters == 10000 and gamma == 0.1:\n",
    "                print(f\"Lambda = {lambda_} done...\")\n",
    "\n",
    "print(f\"F1_score: {best_f1_score}\")\n",
    "print(f\"Accuracy: {best_accuracy}\")\n",
    "print(f\"lambda values: {lambda_value}\")\n",
    "print(f\"Max iters: {best_max_iters}\")\n",
    "print(f\"Gamma: {best_gamma}\")\n",
    "\"\"\""
   ],
   "metadata": {
    "collapsed": false,
    "ExecuteTime": {
     "end_time": "2023-10-29T15:33:17.885645Z",
     "start_time": "2023-10-29T15:33:17.882010Z"
    }
   },
   "id": "ba2db7338c50957c"
  },
  {
   "cell_type": "markdown",
   "source": [
    "## Running each algo once"
   ],
   "metadata": {
    "collapsed": false
   },
   "id": "5a15d38502380dfe"
  },
  {
   "cell_type": "code",
   "execution_count": 64,
   "outputs": [],
   "source": [
    "THRESHOLD = 0\n",
    "create_csv = False"
   ],
   "metadata": {
    "collapsed": false,
    "ExecuteTime": {
     "end_time": "2023-10-29T15:33:17.922029Z",
     "start_time": "2023-10-29T15:33:17.886945Z"
    }
   },
   "id": "833a3905cf094f6"
  },
  {
   "cell_type": "code",
   "execution_count": 65,
   "outputs": [
    {
     "name": "stdout",
     "output_type": "stream",
     "text": [
      "Current model: Ridge Regression\n",
      "F1_score: 0.3190324488277599\n",
      "Accuracy: 0.670342152652722\n"
     ]
    }
   ],
   "source": [
    "# Ridge regression\n",
    "lambda_ = 0.0001\n",
    "w, loss = ridge_regression(y_train1, x_train1, lambda_)\n",
    "y_pred = x_test1 @ w\n",
    "y_pred[y_pred >= THRESHOLD] = 1\n",
    "y_pred[y_pred < THRESHOLD] = -1\n",
    "f1 = f1_score(y_test1, y_pred)\n",
    "accuracy = accuracy_score(y_test1,y_pred)\n",
    "print(f\"Current model: Ridge Regression\")\n",
    "print(f\"F1_score: {f1}\")\n",
    "print(f\"Accuracy: {accuracy}\")\n",
    "if create_csv:\n",
    "    create_csv_submission(test_ids, y_pred, os.path.join(PREDICTIONS_DIR, \"ridge_regression_test_03.csv\"))"
   ],
   "metadata": {
    "collapsed": false,
    "ExecuteTime": {
     "end_time": "2023-10-29T15:33:19.741975Z",
     "start_time": "2023-10-29T15:33:17.889227Z"
    }
   },
   "id": "43443cc76510b2b4"
  },
  {
   "cell_type": "code",
   "execution_count": 66,
   "outputs": [
    {
     "name": "stdout",
     "output_type": "stream",
     "text": [
      "Current model: Logistic Regression\n",
      "F1_score: 0.32052476323552237\n",
      "Accuracy: 0.6766680519000785\n"
     ]
    }
   ],
   "source": [
    "# Logistic regression\n",
    "max_iters = 100\n",
    "gamma = 0.1\n",
    "initial_w = np.zeros(x_train.shape[1])\n",
    "w, loss = logistic_regression(y_train1, x_train1, initial_w=initial_w,max_iters=max_iters, gamma=gamma)\n",
    "y_pred = x_test1 @ w\n",
    "y_pred[y_pred >= THRESHOLD] = 1\n",
    "y_pred[y_pred < THRESHOLD] = -1\n",
    "f1 = f1_score(y_test1, y_pred)\n",
    "accuracy = accuracy_score(y_test1,y_pred)\n",
    "print(f\"Current model: Logistic Regression\")\n",
    "print(f\"F1_score: {f1}\")\n",
    "print(f\"Accuracy: {accuracy}\")\n",
    "if create_csv:\n",
    "    create_csv_submission(test_ids, y_pred, os.path.join(PREDICTIONS_DIR, \"logistic_regression_test_03.csv\"))"
   ],
   "metadata": {
    "collapsed": false,
    "ExecuteTime": {
     "end_time": "2023-10-29T15:33:23.152844Z",
     "start_time": "2023-10-29T15:33:19.742358Z"
    }
   },
   "id": "28ac7f7ddf961520"
  },
  {
   "cell_type": "code",
   "execution_count": 67,
   "outputs": [
    {
     "name": "stdout",
     "output_type": "stream",
     "text": [
      "Current model: Reg Logistic Regression\n",
      "F1_score: 0.32049988356749204\n",
      "Accuracy: 0.6766311123424297\n"
     ]
    }
   ],
   "source": [
    "# Reg Logistic regression\n",
    "lambda_ = 0.0001\n",
    "max_iters = 100\n",
    "gamma = 0.1\n",
    "initial_w = np.zeros(x_train.shape[1])\n",
    "w, loss = reg_logistic_regression(y_train1, x_train1, lambda_=lambda_, initial_w=initial_w, max_iters=max_iters, gamma=gamma)\n",
    "y_pred = x_test1 @ w\n",
    "y_pred[y_pred >= THRESHOLD] = 1\n",
    "y_pred[y_pred < THRESHOLD] = -1\n",
    "f1 = f1_score(y_test1, y_pred)\n",
    "accuracy = accuracy_score(y_test1,y_pred)\n",
    "print(f\"Current model: Reg Logistic Regression\")\n",
    "print(f\"F1_score: {f1}\")\n",
    "print(f\"Accuracy: {accuracy}\")\n",
    "if create_csv:\n",
    "    create_csv_submission(test_ids, y_pred, os.path.join(PREDICTIONS_DIR, \"reg_logistic_regression_test_03.csv\"))"
   ],
   "metadata": {
    "collapsed": false,
    "ExecuteTime": {
     "end_time": "2023-10-29T15:33:26.276148Z",
     "start_time": "2023-10-29T15:33:23.150458Z"
    }
   },
   "id": "ed1aa56621dcab04"
  },
  {
   "cell_type": "code",
   "execution_count": 68,
   "outputs": [
    {
     "name": "stdout",
     "output_type": "stream",
     "text": [
      "Current model: Least Squares\n",
      "F1_score: 0.31891964064318007\n",
      "Accuracy: 0.6702498037586\n"
     ]
    }
   ],
   "source": [
    "# Least Squares\n",
    "w, loss = least_squares(y_train1, x_train1)\n",
    "y_pred = x_test1 @ w\n",
    "y_pred[y_pred >= THRESHOLD] = 1\n",
    "y_pred[y_pred < THRESHOLD] = -1\n",
    "f1 = f1_score(y_test1, y_pred)\n",
    "accuracy = accuracy_score(y_test1,y_pred)\n",
    "print(f\"Current model: Least Squares\")\n",
    "print(f\"F1_score: {f1}\")\n",
    "print(f\"Accuracy: {accuracy}\")\n",
    "if create_csv:\n",
    "    create_csv_submission(test_ids, y_pred, os.path.join(PREDICTIONS_DIR, \"least_squares_test_03.csv\"))"
   ],
   "metadata": {
    "collapsed": false,
    "ExecuteTime": {
     "end_time": "2023-10-29T15:33:41.352981Z",
     "start_time": "2023-10-29T15:33:26.273710Z"
    }
   },
   "id": "8994bc7f68de2780"
  },
  {
   "cell_type": "code",
   "execution_count": 28,
   "outputs": [],
   "source": [],
   "metadata": {
    "collapsed": false,
    "ExecuteTime": {
     "end_time": "2023-10-29T15:27:06.210913Z",
     "start_time": "2023-10-29T15:27:06.203687Z"
    }
   },
   "id": "63ecec3939e9c2ff"
  },
  {
   "cell_type": "code",
   "execution_count": 28,
   "outputs": [],
   "source": [],
   "metadata": {
    "collapsed": false,
    "ExecuteTime": {
     "end_time": "2023-10-29T15:27:06.210946Z",
     "start_time": "2023-10-29T15:27:06.206543Z"
    }
   },
   "id": "316eff2fdc2de08b"
  },
  {
   "cell_type": "code",
   "execution_count": 28,
   "outputs": [],
   "source": [],
   "metadata": {
    "collapsed": false,
    "ExecuteTime": {
     "end_time": "2023-10-29T15:27:06.212923Z",
     "start_time": "2023-10-29T15:27:06.209361Z"
    }
   },
   "id": "cbae1af6903b541d"
  },
  {
   "cell_type": "code",
   "execution_count": 28,
   "outputs": [],
   "source": [],
   "metadata": {
    "collapsed": false,
    "ExecuteTime": {
     "end_time": "2023-10-29T15:27:06.217550Z",
     "start_time": "2023-10-29T15:27:06.212292Z"
    }
   },
   "id": "96de4597c30d24df"
  }
 ],
 "metadata": {
  "kernelspec": {
   "display_name": "Python 3",
   "language": "python",
   "name": "python3"
  },
  "language_info": {
   "codemirror_mode": {
    "name": "ipython",
    "version": 2
   },
   "file_extension": ".py",
   "mimetype": "text/x-python",
   "name": "python",
   "nbconvert_exporter": "python",
   "pygments_lexer": "ipython2",
   "version": "2.7.6"
  }
 },
 "nbformat": 4,
 "nbformat_minor": 5
}
