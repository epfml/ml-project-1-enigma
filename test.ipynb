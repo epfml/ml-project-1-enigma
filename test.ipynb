{
 "cells": [
  {
   "cell_type": "code",
   "execution_count": 33,
   "id": "initial_id",
   "metadata": {
    "collapsed": true,
    "ExecuteTime": {
     "end_time": "2023-10-30T00:29:50.457568Z",
     "start_time": "2023-10-30T00:29:50.370129Z"
    }
   },
   "outputs": [],
   "source": [
    "import sys\n",
    "import os\n",
    "from helpers import load_csv_data, create_csv_submission\n",
    "from run_helpers import load_useless_features_file, get_pearson_coefficients, get_spearman_coefficients, load_column_names_by_type, clean_data\n",
    "from implementations import least_squares, reg_logistic_regression, ridge_regression, logistic_regression\n",
    "import numpy as np\n",
    "from sklearn.model_selection import train_test_split\n",
    "from sklearn.metrics import f1_score, accuracy_score"
   ]
  },
  {
   "cell_type": "code",
   "execution_count": 34,
   "outputs": [],
   "source": [
    "ROOT_DIR = os.path.abspath(os.curdir)\n",
    "DATA_DIR = os.path.join(ROOT_DIR, \"data\")\n",
    "PREDICTIONS_DIR = os.path.join(ROOT_DIR, \"predictions\")\n",
    "HELPER_FILES_DIR = os.path.join(ROOT_DIR, \"helper_files\")"
   ],
   "metadata": {
    "collapsed": false,
    "ExecuteTime": {
     "end_time": "2023-10-30T00:29:50.484725Z",
     "start_time": "2023-10-30T00:29:50.375361Z"
    }
   },
   "id": "b7916fc67e9e705"
  },
  {
   "cell_type": "code",
   "execution_count": 35,
   "outputs": [],
   "source": [
    "x_train_initial, x_test_initial, y_train_initial, train_ids_initial, test_ids_initial, column_names_initial = load_csv_data(DATA_DIR)"
   ],
   "metadata": {
    "collapsed": false,
    "ExecuteTime": {
     "end_time": "2023-10-30T00:31:12.751788Z",
     "start_time": "2023-10-30T00:29:50.379588Z"
    }
   },
   "id": "2bf1351fa747a1d"
  },
  {
   "cell_type": "code",
   "execution_count": 36,
   "outputs": [],
   "source": [
    "x_train, x_test, y_train, train_ids, test_ids, column_names = x_train_initial.copy(), x_test_initial.copy(), y_train_initial.copy(), train_ids_initial.copy(), test_ids_initial.copy(), column_names_initial.copy()"
   ],
   "metadata": {
    "collapsed": false,
    "ExecuteTime": {
     "end_time": "2023-10-30T00:31:13.092768Z",
     "start_time": "2023-10-30T00:31:12.751031Z"
    }
   },
   "id": "6aebe61f3ce9ac89"
  },
  {
   "cell_type": "code",
   "execution_count": 37,
   "outputs": [],
   "source": [
    "bools, seven_nines, seventyseven_ninetynine, specials, eight, eithgy_eight, fruits = load_column_names_by_type(os.path.join(HELPER_FILES_DIR, \"variables_by_values.csv\"))\n",
    "x_train = clean_data(x_train, column_names, bools, seven_nines, seventyseven_ninetynine, specials, eight, eithgy_eight, fruits)\n",
    "x_test = clean_data(x_test, column_names, bools, seven_nines, seventyseven_ninetynine, specials, eight, eithgy_eight, fruits)"
   ],
   "metadata": {
    "collapsed": false,
    "ExecuteTime": {
     "end_time": "2023-10-30T00:31:16.014426Z",
     "start_time": "2023-10-30T00:31:13.096014Z"
    }
   },
   "id": "16524e6e4772693d"
  },
  {
   "cell_type": "code",
   "execution_count": 38,
   "outputs": [
    {
     "data": {
      "text/plain": "array([[4.4000000e+01, 2.0000000e+00, 2.0820150e+06, ..., 1.0000000e+00,\n        1.0000000e+00, 2.0000000e+00],\n       [2.7000000e+01, 1.0000000e+00, 1.1920150e+06, ...,           nan,\n                  nan, 2.0000000e+00],\n       [3.5000000e+01, 5.0000000e+00, 5.2620150e+06, ..., 1.0000000e+00,\n        1.0000000e+00, 2.0000000e+00],\n       ...,\n       [9.0000000e+00, 1.1000000e+01, 1.1272015e+07, ..., 9.0000000e+00,\n        9.0000000e+00,           nan],\n       [1.5000000e+01, 1.2000000e+01, 1.2122015e+07, ..., 1.0000000e+00,\n        1.0000000e+00, 2.0000000e+00],\n       [4.5000000e+01, 1.2000000e+01, 1.2282015e+07, ...,           nan,\n                  nan, 2.0000000e+00]])"
     },
     "execution_count": 38,
     "metadata": {},
     "output_type": "execute_result"
    }
   ],
   "source": [
    "x_test"
   ],
   "metadata": {
    "collapsed": false,
    "ExecuteTime": {
     "end_time": "2023-10-30T00:31:16.021891Z",
     "start_time": "2023-10-30T00:31:16.016727Z"
    }
   },
   "id": "7759edf7f02938dc"
  },
  {
   "cell_type": "code",
   "execution_count": 39,
   "outputs": [
    {
     "data": {
      "text/plain": "array(['_STATE', 'FMONTH', 'IDATE', 'IMONTH', 'IDAY', 'IYEAR', 'DISPCODE',\n       'SEQNO', '_PSU', 'CTELENUM', 'PVTRESD1', 'COLGHOUS', 'STATERES',\n       'CELLFON3', 'LADULT', 'NUMADULT', 'NUMMEN', 'NUMWOMEN', 'CTELNUM1',\n       'CELLFON2', 'CADULT', 'PVTRESD2', 'CCLGHOUS', 'CSTATE', 'LANDLINE',\n       'HHADULT', 'GENHLTH', 'PHYSHLTH', 'MENTHLTH', 'POORHLTH',\n       'HLTHPLN1', 'PERSDOC2', 'MEDCOST', 'CHECKUP1', 'BPHIGH4', 'BPMEDS',\n       'BLOODCHO', 'CHOLCHK', 'TOLDHI2', 'CVDSTRK3', 'ASTHMA3', 'ASTHNOW',\n       'CHCSCNCR', 'CHCOCNCR', 'CHCCOPD1', 'HAVARTH3', 'ADDEPEV2',\n       'CHCKIDNY', 'DIABETE3', 'DIABAGE2', 'SEX', 'MARITAL', 'EDUCA',\n       'RENTHOM1', 'NUMHHOL2', 'NUMPHON2', 'CPDEMO1', 'VETERAN3',\n       'EMPLOY1', 'CHILDREN', 'INCOME2', 'INTERNET', 'WEIGHT2', 'HEIGHT3',\n       'PREGNANT', 'QLACTLM2', 'USEEQUIP', 'BLIND', 'DECIDE', 'DIFFWALK',\n       'DIFFDRES', 'DIFFALON', 'SMOKE100', 'SMOKDAY2', 'STOPSMK2',\n       'LASTSMK2', 'USENOW3', 'ALCDAY5', 'AVEDRNK2', 'DRNK3GE5',\n       'MAXDRNKS', 'FRUITJU1', 'FRUIT1', 'FVBEANS', 'FVGREEN', 'FVORANG',\n       'VEGETAB1', 'EXERANY2', 'EXRACT11', 'EXEROFT1', 'EXERHMM1',\n       'EXRACT21', 'EXEROFT2', 'EXERHMM2', 'STRENGTH', 'LMTJOIN3',\n       'ARTHDIS2', 'ARTHSOCL', 'JOINPAIN', 'SEATBELT', 'FLUSHOT6',\n       'FLSHTMY2', 'IMFVPLAC', 'PNEUVAC3', 'HIVTST6', 'HIVTSTD3',\n       'WHRTST10', 'PDIABTST', 'PREDIAB1', 'INSULIN', 'BLDSUGAR',\n       'FEETCHK2', 'DOCTDIAB', 'CHKHEMO3', 'FEETCHK', 'EYEEXAM',\n       'DIABEYE', 'DIABEDU', 'CAREGIV1', 'CRGVREL1', 'CRGVLNG1',\n       'CRGVHRS1', 'CRGVPRB1', 'CRGVPERS', 'CRGVHOUS', 'CRGVMST2',\n       'CRGVEXPT', 'VIDFCLT2', 'VIREDIF3', 'VIPRFVS2', 'VINOCRE2',\n       'VIEYEXM2', 'VIINSUR2', 'VICTRCT4', 'VIGLUMA2', 'VIMACDG2',\n       'CIMEMLOS', 'CDHOUSE', 'CDASSIST', 'CDHELP', 'CDSOCIAL',\n       'CDDISCUS', 'WTCHSALT', 'LONGWTCH', 'DRADVISE', 'ASTHMAGE',\n       'ASATTACK', 'ASERVIST', 'ASDRVIST', 'ASRCHKUP', 'ASACTLIM',\n       'ASYMPTOM', 'ASNOSLEP', 'ASTHMED3', 'ASINHALR', 'HAREHAB1',\n       'STREHAB1', 'CVDASPRN', 'ASPUNSAF', 'RLIVPAIN', 'RDUCHART',\n       'RDUCSTRK', 'ARTTODAY', 'ARTHWGT', 'ARTHEXER', 'ARTHEDU',\n       'TETANUS', 'HPVADVC2', 'HPVADSHT', 'SHINGLE2', 'HADMAM', 'HOWLONG',\n       'HADPAP2', 'LASTPAP2', 'HPVTEST', 'HPLSTTST', 'HADHYST2',\n       'PROFEXAM', 'LENGEXAM', 'BLDSTOOL', 'LSTBLDS3', 'HADSIGM3',\n       'HADSGCO1', 'LASTSIG3', 'PCPSAAD2', 'PCPSADI1', 'PCPSARE1',\n       'PSATEST1', 'PSATIME', 'PCPSARS1', 'PCPSADE1', 'PCDMDECN',\n       'SCNTMNY1', 'SCNTMEL1', 'SCNTPAID', 'SCNTWRK1', 'SCNTLPAD',\n       'SCNTLWK1', 'SXORIENT', 'TRNSGNDR', 'RCSGENDR', 'RCSRLTN2',\n       'CASTHDX2', 'CASTHNO2', 'EMTSUPRT', 'LSATISFY', 'ADPLEASR',\n       'ADDOWN', 'ADSLEEP', 'ADENERGY', 'ADEAT1', 'ADFAIL', 'ADTHINK',\n       'ADMOVE', 'MISTMNT', 'ADANXEV', 'QSTVER', 'QSTLANG', 'MSCODE',\n       '_STSTR', '_STRWT', '_RAWRAKE', '_WT2RAKE', '_CHISPNC', '_CRACE1',\n       '_CPRACE', '_CLLCPWT', '_DUALUSE', '_DUALCOR', '_LLCPWT',\n       '_RFHLTH', '_HCVU651', '_RFHYPE5', '_CHOLCHK', '_RFCHOL',\n       '_LTASTH1', '_CASTHM1', '_ASTHMS1', '_DRDXAR1', '_PRACE1',\n       '_MRACE1', '_HISPANC', '_RACE', '_RACEG21', '_RACEGR3', '_RACE_G1',\n       '_AGEG5YR', '_AGE65YR', '_AGE80', '_AGE_G', 'HTIN4', 'HTM4',\n       'WTKG3', '_BMI5', '_BMI5CAT', '_RFBMI5', '_CHLDCNT', '_EDUCAG',\n       '_INCOMG', '_SMOKER3', '_RFSMOK3', 'DRNKANY5', 'DROCDY3_',\n       '_RFBING5', '_DRNKWEK', '_RFDRHV5', 'FTJUDA1_', 'FRUTDA1_',\n       'BEANDAY_', 'GRENDAY_', 'ORNGDAY_', 'VEGEDA1_', '_MISFRTN',\n       '_MISVEGN', '_FRTRESP', '_VEGRESP', '_FRUTSUM', '_VEGESUM',\n       '_FRTLT1', '_VEGLT1', '_FRT16', '_VEG23', '_FRUITEX', '_VEGETEX',\n       '_TOTINDA', 'METVL11_', 'METVL21_', 'MAXVO2_', 'FC60_', 'ACTIN11_',\n       'ACTIN21_', 'PADUR1_', 'PADUR2_', 'PAFREQ1_', 'PAFREQ2_',\n       '_MINAC11', '_MINAC21', 'STRFREQ_', 'PAMISS1_', 'PAMIN11_',\n       'PAMIN21_', 'PA1MIN_', 'PAVIG11_', 'PAVIG21_', 'PA1VIGM_',\n       '_PACAT1', '_PAINDX1', '_PA150R2', '_PA300R2', '_PA30021',\n       '_PASTRNG', '_PAREC1', '_PASTAE1', '_LMTACT1', '_LMTWRK1',\n       '_LMTSCL1', '_RFSEAT2', '_RFSEAT3', '_FLSHOT6', '_PNEUMO2',\n       '_AIDTST3'], dtype='<U8')"
     },
     "execution_count": 39,
     "metadata": {},
     "output_type": "execute_result"
    }
   ],
   "source": [
    "column_names"
   ],
   "metadata": {
    "collapsed": false,
    "ExecuteTime": {
     "end_time": "2023-10-30T00:31:16.024Z",
     "start_time": "2023-10-30T00:31:16.020929Z"
    }
   },
   "id": "7fe2ffff4914e00b"
  },
  {
   "cell_type": "markdown",
   "source": [
    "# Data cleaning"
   ],
   "metadata": {
    "collapsed": false
   },
   "id": "6656f7b5488eb210"
  },
  {
   "cell_type": "markdown",
   "source": [
    "## Removing useless features"
   ],
   "metadata": {
    "collapsed": false
   },
   "id": "538932b46cc1b606"
  },
  {
   "cell_type": "code",
   "execution_count": 40,
   "outputs": [],
   "source": [
    "useless_features_names = load_useless_features_file(os.path.join(HELPER_FILES_DIR, \"useless_features_names.csv\"))"
   ],
   "metadata": {
    "collapsed": false,
    "ExecuteTime": {
     "end_time": "2023-10-30T00:31:16.030625Z",
     "start_time": "2023-10-30T00:31:16.024585Z"
    }
   },
   "id": "45d35780d2ec8d89"
  },
  {
   "cell_type": "code",
   "execution_count": 41,
   "outputs": [],
   "source": [
    "useless_columns_indices = np.where(np.in1d(column_names, useless_features_names))[0]"
   ],
   "metadata": {
    "collapsed": false,
    "ExecuteTime": {
     "end_time": "2023-10-30T00:31:16.031337Z",
     "start_time": "2023-10-30T00:31:16.028773Z"
    }
   },
   "id": "72a8a15085e4a415"
  },
  {
   "cell_type": "code",
   "execution_count": 42,
   "outputs": [
    {
     "data": {
      "text/plain": "array(['_STATE', 'FMONTH', 'IDATE', 'IMONTH', 'IDAY', 'IYEAR', 'DISPCODE',\n       'SEQNO', '_PSU', 'CTELENUM', 'PVTRESD1', 'COLGHOUS', 'STATERES',\n       'CELLFON3', 'LADULT', 'NUMADULT', 'NUMMEN', 'NUMWOMEN', 'CTELNUM1',\n       'CELLFON2', 'CADULT', 'PVTRESD2', 'CCLGHOUS', 'CSTATE', 'LANDLINE',\n       'HHADULT', 'GENHLTH', 'PHYSHLTH', 'MENTHLTH', 'POORHLTH',\n       'HLTHPLN1', 'PERSDOC2', 'MEDCOST', 'CHECKUP1', 'BPHIGH4', 'BPMEDS',\n       'BLOODCHO', 'CHOLCHK', 'TOLDHI2', 'CVDSTRK3', 'ASTHMA3', 'ASTHNOW',\n       'CHCSCNCR', 'CHCOCNCR', 'CHCCOPD1', 'HAVARTH3', 'ADDEPEV2',\n       'CHCKIDNY', 'DIABETE3', 'DIABAGE2', 'SEX', 'MARITAL', 'EDUCA',\n       'RENTHOM1', 'NUMHHOL2', 'NUMPHON2', 'CPDEMO1', 'VETERAN3',\n       'EMPLOY1', 'CHILDREN', 'INCOME2', 'INTERNET', 'WEIGHT2', 'HEIGHT3',\n       'PREGNANT', 'QLACTLM2', 'USEEQUIP', 'BLIND', 'DECIDE', 'DIFFWALK',\n       'DIFFDRES', 'DIFFALON', 'SMOKE100', 'SMOKDAY2', 'STOPSMK2',\n       'LASTSMK2', 'USENOW3', 'ALCDAY5', 'AVEDRNK2', 'DRNK3GE5',\n       'MAXDRNKS', 'FRUITJU1', 'FRUIT1', 'FVBEANS', 'FVGREEN', 'FVORANG',\n       'VEGETAB1', 'EXERANY2', 'EXRACT11', 'EXEROFT1', 'EXERHMM1',\n       'EXRACT21', 'EXEROFT2', 'EXERHMM2', 'STRENGTH', 'LMTJOIN3',\n       'ARTHDIS2', 'ARTHSOCL', 'JOINPAIN', 'SEATBELT', 'FLUSHOT6',\n       'FLSHTMY2', 'IMFVPLAC', 'PNEUVAC3', 'HIVTST6', 'HIVTSTD3',\n       'WHRTST10', 'PDIABTST', 'PREDIAB1', 'INSULIN', 'BLDSUGAR',\n       'FEETCHK2', 'DOCTDIAB', 'CHKHEMO3', 'FEETCHK', 'EYEEXAM',\n       'DIABEYE', 'DIABEDU', 'CAREGIV1', 'CRGVREL1', 'CRGVLNG1',\n       'CRGVHRS1', 'CRGVPRB1', 'CRGVPERS', 'CRGVHOUS', 'CRGVMST2',\n       'CRGVEXPT', 'VIDFCLT2', 'VIREDIF3', 'VIPRFVS2', 'VINOCRE2',\n       'VIEYEXM2', 'VIINSUR2', 'VICTRCT4', 'VIGLUMA2', 'VIMACDG2',\n       'CIMEMLOS', 'CDHOUSE', 'CDASSIST', 'CDHELP', 'CDSOCIAL',\n       'CDDISCUS', 'WTCHSALT', 'LONGWTCH', 'DRADVISE', 'ASTHMAGE',\n       'ASATTACK', 'ASERVIST', 'ASDRVIST', 'ASRCHKUP', 'ASACTLIM',\n       'ASYMPTOM', 'ASNOSLEP', 'ASTHMED3', 'ASINHALR', 'HAREHAB1',\n       'STREHAB1', 'CVDASPRN', 'ASPUNSAF', 'RLIVPAIN', 'RDUCHART',\n       'RDUCSTRK', 'ARTTODAY', 'ARTHWGT', 'ARTHEXER', 'ARTHEDU',\n       'TETANUS', 'HPVADVC2', 'HPVADSHT', 'SHINGLE2', 'HADMAM', 'HOWLONG',\n       'HADPAP2', 'LASTPAP2', 'HPVTEST', 'HPLSTTST', 'HADHYST2',\n       'PROFEXAM', 'LENGEXAM', 'BLDSTOOL', 'LSTBLDS3', 'HADSIGM3',\n       'HADSGCO1', 'LASTSIG3', 'PCPSAAD2', 'PCPSADI1', 'PCPSARE1',\n       'PSATEST1', 'PSATIME', 'PCPSARS1', 'PCPSADE1', 'PCDMDECN',\n       'SCNTMNY1', 'SCNTMEL1', 'SCNTPAID', 'SCNTWRK1', 'SCNTLPAD',\n       'SCNTLWK1', 'SXORIENT', 'TRNSGNDR', 'RCSGENDR', 'RCSRLTN2',\n       'CASTHDX2', 'CASTHNO2', 'EMTSUPRT', 'LSATISFY', 'ADPLEASR',\n       'ADDOWN', 'ADSLEEP', 'ADENERGY', 'ADEAT1', 'ADFAIL', 'ADTHINK',\n       'ADMOVE', 'MISTMNT', 'ADANXEV', 'QSTVER', 'QSTLANG', 'MSCODE',\n       '_STSTR', '_STRWT', '_RAWRAKE', '_WT2RAKE', '_CHISPNC', '_CRACE1',\n       '_CPRACE', '_CLLCPWT', '_DUALUSE', '_DUALCOR', '_LLCPWT',\n       '_RFHLTH', '_HCVU651', '_RFHYPE5', '_CHOLCHK', '_RFCHOL',\n       '_LTASTH1', '_CASTHM1', '_ASTHMS1', '_DRDXAR1', '_PRACE1',\n       '_MRACE1', '_HISPANC', '_RACE', '_RACEG21', '_RACEGR3', '_RACE_G1',\n       '_AGEG5YR', '_AGE65YR', '_AGE80', '_AGE_G', 'HTIN4', 'HTM4',\n       'WTKG3', '_BMI5', '_BMI5CAT', '_RFBMI5', '_CHLDCNT', '_EDUCAG',\n       '_INCOMG', '_SMOKER3', '_RFSMOK3', 'DRNKANY5', 'DROCDY3_',\n       '_RFBING5', '_DRNKWEK', '_RFDRHV5', 'FTJUDA1_', 'FRUTDA1_',\n       'BEANDAY_', 'GRENDAY_', 'ORNGDAY_', 'VEGEDA1_', '_MISFRTN',\n       '_MISVEGN', '_FRTRESP', '_VEGRESP', '_FRUTSUM', '_VEGESUM',\n       '_FRTLT1', '_VEGLT1', '_FRT16', '_VEG23', '_FRUITEX', '_VEGETEX',\n       '_TOTINDA', 'METVL11_', 'METVL21_', 'MAXVO2_', 'FC60_', 'ACTIN11_',\n       'ACTIN21_', 'PADUR1_', 'PADUR2_', 'PAFREQ1_', 'PAFREQ2_',\n       '_MINAC11', '_MINAC21', 'STRFREQ_', 'PAMISS1_', 'PAMIN11_',\n       'PAMIN21_', 'PA1MIN_', 'PAVIG11_', 'PAVIG21_', 'PA1VIGM_',\n       '_PACAT1', '_PAINDX1', '_PA150R2', '_PA300R2', '_PA30021',\n       '_PASTRNG', '_PAREC1', '_PASTAE1', '_LMTACT1', '_LMTWRK1',\n       '_LMTSCL1', '_RFSEAT2', '_RFSEAT3', '_FLSHOT6', '_PNEUMO2',\n       '_AIDTST3'], dtype='<U8')"
     },
     "execution_count": 42,
     "metadata": {},
     "output_type": "execute_result"
    }
   ],
   "source": [
    "column_names"
   ],
   "metadata": {
    "collapsed": false,
    "ExecuteTime": {
     "end_time": "2023-10-30T00:31:16.051801Z",
     "start_time": "2023-10-30T00:31:16.032312Z"
    }
   },
   "id": "8b2067ddd5490c2e"
  },
  {
   "cell_type": "code",
   "execution_count": 43,
   "outputs": [],
   "source": [
    "x_train = np.delete(x_train, useless_columns_indices, axis=1)\n",
    "x_test = np.delete(x_test, useless_columns_indices, axis=1)\n",
    "column_names = np.delete(column_names, useless_columns_indices)"
   ],
   "metadata": {
    "collapsed": false,
    "ExecuteTime": {
     "end_time": "2023-10-30T00:31:16.953987Z",
     "start_time": "2023-10-30T00:31:16.036262Z"
    }
   },
   "id": "bc5ec5b6326f8c0"
  },
  {
   "cell_type": "markdown",
   "source": [
    "## Normalizing data, removing nans and outliers"
   ],
   "metadata": {
    "collapsed": false
   },
   "id": "4dc682788d5998cd"
  },
  {
   "cell_type": "code",
   "execution_count": 44,
   "outputs": [],
   "source": [
    "def clean_outliers(data):\n",
    "   \"\"\"\n",
    "   Cleans the dataset from outliers.\n",
    "   The first quantile and last quantile outliers are replaced by the median without outliers.\n",
    "   \"\"\"\n",
    "   cleaned_data = np.copy(data)\n",
    "  \n",
    "   for i in range(data.shape[1]):  # Iterate over features/columns\n",
    "       feature = data[:, i]\n",
    "      \n",
    "       # Compute the first and last 3% and IQR\n",
    "       Q1 = np.nanpercentile(feature, 3)\n",
    "       Q3 = np.nanpercentile(feature, 97)\n",
    "       IQR = Q3 - Q1\n",
    "      \n",
    "       # Identify the outliers\n",
    "       outlier_mask = (feature < (Q1 - 1.5 * IQR)) | (feature > (Q3 + 1.5 * IQR))\n",
    "      \n",
    "       # Compute the median of the data without outliers\n",
    "       median_without_outliers = np.nanmedian(feature[~outlier_mask])\n",
    "      \n",
    "       # Replace outliers with this median\n",
    "       cleaned_data[outlier_mask, i] = median_without_outliers\n",
    "      \n",
    "   return cleaned_data\n"
   ],
   "metadata": {
    "collapsed": false,
    "ExecuteTime": {
     "end_time": "2023-10-30T00:31:16.961697Z",
     "start_time": "2023-10-30T00:31:16.956247Z"
    }
   },
   "id": "19e01d8df6d970b9"
  },
  {
   "cell_type": "code",
   "execution_count": 45,
   "outputs": [],
   "source": [
    "x_train = clean_outliers(x_train)\n",
    "x_test = clean_outliers(x_test)"
   ],
   "metadata": {
    "collapsed": false,
    "ExecuteTime": {
     "end_time": "2023-10-30T00:31:19.651354Z",
     "start_time": "2023-10-30T00:31:16.959979Z"
    }
   },
   "id": "588add4f1085d258"
  },
  {
   "cell_type": "code",
   "execution_count": 46,
   "outputs": [
    {
     "data": {
      "text/plain": "array([[ 2.,  1.,  5., ..., nan, nan,  2.],\n       [ 4., 88., 88., ..., nan, nan, nan],\n       [ 2., 77., 77., ...,  1.,  2.,  2.],\n       ...,\n       [ 3., 88.,  1., ...,  2.,  2.,  2.],\n       [ 3., 88., 88., ..., nan, nan,  2.],\n       [ 2.,  7.,  7., ..., nan, nan,  2.]])"
     },
     "execution_count": 46,
     "metadata": {},
     "output_type": "execute_result"
    }
   ],
   "source": [
    "x_train"
   ],
   "metadata": {
    "collapsed": false,
    "ExecuteTime": {
     "end_time": "2023-10-30T00:31:19.658521Z",
     "start_time": "2023-10-30T00:31:19.655290Z"
    }
   },
   "id": "e9b3aaa40c58e9b1"
  },
  {
   "cell_type": "code",
   "execution_count": 47,
   "outputs": [],
   "source": [
    "def remove_small_variance_features(data_train, data_test):\n",
    "    cleaned_data_train = np.copy(data_train)\n",
    "    cleaned_data_test = np.copy(data_test)\n",
    "    # Calculate the variance for each feature\n",
    "    variances_over_means = np.abs(np.nanvar(cleaned_data_train, axis=0)\n",
    "                                  /\n",
    "                                  np.nanmean(cleaned_data_train, axis=0)\n",
    "                                  )\n",
    "    \n",
    "    # Set your threshold for variance (e.g., 0.01)\n",
    "    threshold = 0.01\n",
    "    \n",
    "    # Find feature indices that meet the threshold\n",
    "    features_to_keep = variances_over_means >= threshold\n",
    "    \n",
    "    # Keep only the features with variance above the threshold\n",
    "    data_reduced_train = cleaned_data_train[:, features_to_keep]\n",
    "    data_reduced_test = cleaned_data_test[:, features_to_keep]\n",
    "    \n",
    "    return data_reduced_train, data_reduced_test\n",
    "        \n",
    "        "
   ],
   "metadata": {
    "collapsed": false,
    "ExecuteTime": {
     "end_time": "2023-10-30T00:31:19.665519Z",
     "start_time": "2023-10-30T00:31:19.659356Z"
    }
   },
   "id": "fb05f3f9491a13ea"
  },
  {
   "cell_type": "code",
   "execution_count": 48,
   "outputs": [],
   "source": [
    "x_train, x_test = remove_small_variance_features(x_train, x_test)\n"
   ],
   "metadata": {
    "collapsed": false,
    "ExecuteTime": {
     "end_time": "2023-10-30T00:31:21.364378Z",
     "start_time": "2023-10-30T00:31:19.662085Z"
    }
   },
   "id": "d9a2956890a82963"
  },
  {
   "cell_type": "code",
   "execution_count": 49,
   "outputs": [
    {
     "data": {
      "text/plain": "array([[ 2.,  1.,  5., ..., nan, nan,  2.],\n       [ 4., 88., 88., ..., nan, nan, nan],\n       [ 2., 77., 77., ...,  1.,  2.,  2.],\n       ...,\n       [ 3., 88.,  1., ...,  2.,  2.,  2.],\n       [ 3., 88., 88., ..., nan, nan,  2.],\n       [ 2.,  7.,  7., ..., nan, nan,  2.]])"
     },
     "execution_count": 49,
     "metadata": {},
     "output_type": "execute_result"
    }
   ],
   "source": [
    "x_train"
   ],
   "metadata": {
    "collapsed": false,
    "ExecuteTime": {
     "end_time": "2023-10-30T00:31:21.371953Z",
     "start_time": "2023-10-30T00:31:21.364976Z"
    }
   },
   "id": "45999def82e276c7"
  },
  {
   "cell_type": "code",
   "execution_count": 50,
   "outputs": [],
   "source": [
    "x_train_averages = np.nanmean(x_train, axis=0)\n",
    "x_test_averages = np.nanmean(x_test, axis=0)"
   ],
   "metadata": {
    "collapsed": false,
    "ExecuteTime": {
     "end_time": "2023-10-30T00:31:21.944812Z",
     "start_time": "2023-10-30T00:31:21.369710Z"
    }
   },
   "id": "fdc5e591a2408556"
  },
  {
   "cell_type": "code",
   "execution_count": 51,
   "outputs": [],
   "source": [
    "# Replace nan values with the computed means for each feature\n",
    "for i in range(x_train.shape[1]):\n",
    "   x_train[np.isnan(x_train[:, i]), i] = x_train_averages[i]\n",
    "   \n",
    "# Replace nan values with the computed means for each feature\n",
    "for i in range(x_test.shape[1]):\n",
    "   x_test[np.isnan(x_test[:, i]), i] = x_test_averages[i]\n"
   ],
   "metadata": {
    "collapsed": false,
    "ExecuteTime": {
     "end_time": "2023-10-30T00:31:22.343324Z",
     "start_time": "2023-10-30T00:31:21.946018Z"
    }
   },
   "id": "b89aead74db41325"
  },
  {
   "cell_type": "code",
   "execution_count": 52,
   "outputs": [],
   "source": [
    "x_train_std_dev = np.std(x_train, axis=0)\n",
    "x_train = np.delete(x_train, np.where(x_train_std_dev == 0), axis=1)\n",
    "x_test = np.delete(x_test, np.where(x_train_std_dev == 0), axis=1)\n",
    "x_test_std_dev = np.std(x_test, axis=0)\n",
    "x_train = np.delete(x_train, np.where(x_test_std_dev == 0), axis=1)\n",
    "x_test = np.delete(x_test, np.where(x_test_std_dev == 0), axis=1)"
   ],
   "metadata": {
    "collapsed": false,
    "ExecuteTime": {
     "end_time": "2023-10-30T00:31:23.205869Z",
     "start_time": "2023-10-30T00:31:22.344958Z"
    }
   },
   "id": "bb300b9c1d22d4d9"
  },
  {
   "cell_type": "code",
   "execution_count": 53,
   "outputs": [],
   "source": [
    "# Z-score normalization\n",
    "def z_score_normalization(data):\n",
    "   mean_vals = np.mean(data, axis=0)\n",
    "   std_dev = np.std(data, axis=0)\n",
    "   return (data - mean_vals) / std_dev\n",
    "\n",
    "\n",
    "x_train = z_score_normalization(x_train)\n",
    "x_test = z_score_normalization(x_test)"
   ],
   "metadata": {
    "collapsed": false,
    "ExecuteTime": {
     "end_time": "2023-10-30T00:31:24.215723Z",
     "start_time": "2023-10-30T00:31:23.207033Z"
    }
   },
   "id": "3c081ef5489d6b3a"
  },
  {
   "cell_type": "code",
   "execution_count": 54,
   "outputs": [
    {
     "data": {
      "text/plain": "array([[-5.13164612e-01, -1.61190630e+00, -1.66692700e+00, ...,\n         0.00000000e+00,  5.37176464e-16,  2.44635873e-02],\n       [ 1.28108930e+00,  7.36126946e-01,  6.49440401e-01, ...,\n         0.00000000e+00,  5.37176464e-16,  0.00000000e+00],\n       [-5.13164612e-01,  4.39249180e-01,  3.42451951e-01, ...,\n        -8.59212775e-01, -2.46031587e-01,  2.44635873e-02],\n       ...,\n       [ 3.83962342e-01,  7.36126946e-01, -1.77855916e+00, ...,\n        -1.93109791e-01, -2.46031587e-01,  2.44635873e-02],\n       [ 3.83962342e-01,  7.36126946e-01,  6.49440401e-01, ...,\n         0.00000000e+00,  5.37176464e-16,  2.44635873e-02],\n       [-5.13164612e-01, -1.44997297e+00, -1.61111091e+00, ...,\n         0.00000000e+00,  5.37176464e-16,  2.44635873e-02]])"
     },
     "execution_count": 54,
     "metadata": {},
     "output_type": "execute_result"
    }
   ],
   "source": [
    "x_train"
   ],
   "metadata": {
    "collapsed": false,
    "ExecuteTime": {
     "end_time": "2023-10-30T00:31:24.222677Z",
     "start_time": "2023-10-30T00:31:24.215798Z"
    }
   },
   "id": "57f3505b000bd266"
  },
  {
   "cell_type": "code",
   "execution_count": 55,
   "outputs": [],
   "source": [
    "def remove_features_with_small_pearson_correlation(data_train, target_train, data_test):\n",
    "    cleaned_data_train = np.copy(data_train)\n",
    "    cleaned_data_test = np.copy(data_test)\n",
    "    \n",
    "    pearson_coeffs = get_pearson_coefficients(data_train, target_train)\n",
    "    \n",
    "    threshold = 0.01\n",
    "    \n",
    "    # Find feature indices that meet the threshold\n",
    "    features_to_keep = np.abs(pearson_coeffs) >= threshold\n",
    "    \n",
    "    # Keep only the features with variance above the threshold\n",
    "    data_reduced_train = cleaned_data_train[:, features_to_keep]\n",
    "    data_reduced_test = cleaned_data_test[:, features_to_keep]\n",
    "    \n",
    "    return data_reduced_train, data_reduced_test\n",
    "    "
   ],
   "metadata": {
    "collapsed": false,
    "ExecuteTime": {
     "end_time": "2023-10-30T00:31:24.224052Z",
     "start_time": "2023-10-30T00:31:24.220750Z"
    }
   },
   "id": "c990758aaf746b94"
  },
  {
   "cell_type": "code",
   "execution_count": 56,
   "outputs": [],
   "source": [
    "def remove_features_with_small_spearman_correlation(data_train, target_train, data_test):\n",
    "    cleaned_data_train = np.copy(data_train)\n",
    "    cleaned_data_test = np.copy(data_test)\n",
    "    \n",
    "    spearman_coeffs = get_spearman_coefficients(data_train, target_train)\n",
    "\n",
    "    threshold = 0.01\n",
    "    \n",
    "    # Find feature indices that meet the threshold\n",
    "    features_to_keep = np.abs(spearman_coeffs) >= threshold\n",
    "    \n",
    "    # Keep only the features with variance above the threshold\n",
    "    data_reduced_train = cleaned_data_train[:, features_to_keep]\n",
    "    data_reduced_test = cleaned_data_test[:, features_to_keep]\n",
    "    \n",
    "    return data_reduced_train, data_reduced_test"
   ],
   "metadata": {
    "collapsed": false,
    "ExecuteTime": {
     "end_time": "2023-10-30T00:31:24.230050Z",
     "start_time": "2023-10-30T00:31:24.224286Z"
    }
   },
   "id": "2571af9126592708"
  },
  {
   "cell_type": "code",
   "execution_count": 57,
   "outputs": [],
   "source": [
    "x_train, x_test = remove_features_with_small_pearson_correlation(x_train, y_train, x_test)\n",
    "x_train, x_test = remove_features_with_small_spearman_correlation(x_train, y_train, x_test)"
   ],
   "metadata": {
    "collapsed": false,
    "ExecuteTime": {
     "end_time": "2023-10-30T00:31:32.228729Z",
     "start_time": "2023-10-30T00:31:24.227214Z"
    }
   },
   "id": "fcc059bc34e89778"
  },
  {
   "cell_type": "code",
   "execution_count": 58,
   "outputs": [
    {
     "data": {
      "text/plain": "array([[-5.13108560e-01,  7.35319805e-01, -2.60790151e-16, ...,\n        -8.52901726e-01, -8.46366394e-01,  2.33658706e-02],\n       [-1.41237633e+00, -1.55854667e+00,  1.17838179e+00, ...,\n        -5.98026484e-16,  2.70090630e-16,  2.33658706e-02],\n       [-5.13108560e-01,  7.35319805e-01, -2.60790151e-16, ...,\n        -8.52901726e-01, -8.46366394e-01,  2.33658706e-02],\n       ...,\n       [-5.13108560e-01,  7.35319805e-01,  1.17838179e+00, ...,\n         4.53364197e+00,  4.01915384e+00,  0.00000000e+00],\n       [ 1.28542697e+00, -1.55854667e+00,  1.17838179e+00, ...,\n        -8.52901726e-01, -8.46366394e-01,  2.33658706e-02],\n       [ 3.86159205e-01, -1.58553334e+00,  1.17838179e+00, ...,\n        -5.98026484e-16,  2.70090630e-16,  2.33658706e-02]])"
     },
     "execution_count": 58,
     "metadata": {},
     "output_type": "execute_result"
    }
   ],
   "source": [
    "x_test"
   ],
   "metadata": {
    "collapsed": false,
    "ExecuteTime": {
     "end_time": "2023-10-30T00:31:32.236197Z",
     "start_time": "2023-10-30T00:31:32.229916Z"
    }
   },
   "id": "78f83e19e0b11a1c"
  },
  {
   "cell_type": "markdown",
   "source": [
    "# Machine learning"
   ],
   "metadata": {
    "collapsed": false
   },
   "id": "1918b150130705f4"
  },
  {
   "cell_type": "markdown",
   "source": [
    "## Splitting train sets in two"
   ],
   "metadata": {
    "collapsed": false
   },
   "id": "36be3f3fb8584de8"
  },
  {
   "cell_type": "code",
   "execution_count": 59,
   "outputs": [],
   "source": [
    "x_train1, x_test1, y_train1, y_test1 = train_test_split(x_train, y_train, test_size=0.33, random_state=42)"
   ],
   "metadata": {
    "collapsed": false,
    "ExecuteTime": {
     "end_time": "2023-10-30T00:31:32.535683Z",
     "start_time": "2023-10-30T00:31:32.233994Z"
    }
   },
   "id": "f742b6f5e97fa4fc"
  },
  {
   "cell_type": "markdown",
   "source": [
    "## Running each algo once"
   ],
   "metadata": {
    "collapsed": false
   },
   "id": "5a15d38502380dfe"
  },
  {
   "cell_type": "code",
   "execution_count": 60,
   "outputs": [],
   "source": [
    "THRESHOLD = 0\n",
    "create_csv = False"
   ],
   "metadata": {
    "collapsed": false,
    "ExecuteTime": {
     "end_time": "2023-10-30T00:31:32.542419Z",
     "start_time": "2023-10-30T00:31:32.536403Z"
    }
   },
   "id": "833a3905cf094f6"
  },
  {
   "cell_type": "code",
   "execution_count": 61,
   "outputs": [
    {
     "name": "stdout",
     "output_type": "stream",
     "text": [
      "Current model: Ridge Regression\n",
      "F1_score: 0.3195850733176973\n",
      "Accuracy: 0.6704714411044927\n"
     ]
    }
   ],
   "source": [
    "# Ridge regression\n",
    "lambda_ = 0.0001\n",
    "w, loss = ridge_regression(y_train1, x_train1, lambda_)\n",
    "y_pred = x_test1 @ w\n",
    "y_pred[y_pred >= THRESHOLD] = 1\n",
    "y_pred[y_pred < THRESHOLD] = -1\n",
    "f1 = f1_score(y_test1, y_pred)\n",
    "accuracy = accuracy_score(y_test1,y_pred)\n",
    "print(f\"Current model: Ridge Regression\")\n",
    "print(f\"F1_score: {f1}\")\n",
    "print(f\"Accuracy: {accuracy}\")\n",
    "if create_csv:\n",
    "    create_csv_submission(test_ids, y_pred, \"ridge_regression_test_03.csv\")"
   ],
   "metadata": {
    "collapsed": false,
    "ExecuteTime": {
     "end_time": "2023-10-30T00:31:33.076510Z",
     "start_time": "2023-10-30T00:31:32.540684Z"
    }
   },
   "id": "43443cc76510b2b4"
  },
  {
   "cell_type": "code",
   "execution_count": 62,
   "outputs": [
    {
     "name": "stdout",
     "output_type": "stream",
     "text": [
      "Current model: Logistic Regression\n",
      "F1_score: 0.3207653130385949\n",
      "Accuracy: 0.67608625386711\n"
     ]
    }
   ],
   "source": [
    "# Logistic regression\n",
    "max_iters = 100\n",
    "gamma = 0.1\n",
    "initial_w = np.zeros(x_train.shape[1])\n",
    "w, loss = logistic_regression(y_train1, x_train1, initial_w=initial_w,max_iters=max_iters, gamma=gamma)\n",
    "y_pred = x_test1 @ w\n",
    "y_pred[y_pred >= THRESHOLD] = 1\n",
    "y_pred[y_pred < THRESHOLD] = -1\n",
    "f1 = f1_score(y_test1, y_pred)\n",
    "accuracy = accuracy_score(y_test1,y_pred)\n",
    "print(f\"Current model: Logistic Regression\")\n",
    "print(f\"F1_score: {f1}\")\n",
    "print(f\"Accuracy: {accuracy}\")\n",
    "if create_csv:\n",
    "    create_csv_submission(test_ids, y_pred, os.path.join(PREDICTIONS_DIR, \"logistic_regression_test_03.csv\"))"
   ],
   "metadata": {
    "collapsed": false,
    "ExecuteTime": {
     "end_time": "2023-10-30T00:31:35.206370Z",
     "start_time": "2023-10-30T00:31:33.074878Z"
    }
   },
   "id": "28ac7f7ddf961520"
  },
  {
   "cell_type": "code",
   "execution_count": 66,
   "outputs": [
    {
     "name": "stdout",
     "output_type": "stream",
     "text": [
      "Current model: Reg Logistic Regression\n",
      "F1_score: 0.34972899728997286\n",
      "Accuracy: 0.7340905942651337\n"
     ]
    }
   ],
   "source": [
    "# Reg Logistic regression\n",
    "lambda_ = 0.0001\n",
    "max_iters = 1000000\n",
    "gamma = 0.5\n",
    "initial_w = np.zeros(x_train.shape[1])\n",
    "w, loss = reg_logistic_regression(y_train1, x_train1, lambda_=lambda_, initial_w=initial_w, max_iters=max_iters, gamma=gamma)\n",
    "y_pred = x_test1 @ w\n",
    "y_pred[y_pred >= THRESHOLD] = 1\n",
    "y_pred[y_pred < THRESHOLD] = -1\n",
    "f1 = f1_score(y_test1, y_pred)\n",
    "accuracy = accuracy_score(y_test1,y_pred)\n",
    "print(f\"Current model: Reg Logistic Regression\")\n",
    "print(f\"F1_score: {f1}\")\n",
    "print(f\"Accuracy: {accuracy}\")\n",
    "if create_csv:\n",
    "    create_csv_submission(test_ids, y_pred, os.path.join(PREDICTIONS_DIR, \"reg_logistic_regression_test_03.csv\"))"
   ],
   "metadata": {
    "collapsed": false,
    "ExecuteTime": {
     "end_time": "2023-10-30T07:16:27.234656Z",
     "start_time": "2023-10-30T01:32:43.766081Z"
    }
   },
   "id": "ed1aa56621dcab04"
  },
  {
   "cell_type": "code",
   "execution_count": 68,
   "outputs": [],
   "source": [
    "create_csv_submission(test_ids, y_pred, os.path.join(PREDICTIONS_DIR, \"reg_logistic_regression_test_03.csv\"))"
   ],
   "metadata": {
    "collapsed": false,
    "ExecuteTime": {
     "end_time": "2023-10-30T07:44:37.177989Z",
     "start_time": "2023-10-30T07:44:37.009484Z"
    }
   },
   "id": "7dec031b67a99826"
  },
  {
   "cell_type": "code",
   "execution_count": 64,
   "outputs": [
    {
     "name": "stdout",
     "output_type": "stream",
     "text": [
      "Current model: Least Squares\n",
      "F1_score: 0.3198626871364546\n",
      "Accuracy: 0.6706561388927368\n"
     ]
    }
   ],
   "source": [
    "# Least Squares\n",
    "w, loss = least_squares(y_train1, x_train1)\n",
    "y_pred = x_test1 @ w\n",
    "y_pred[y_pred >= THRESHOLD] = 1\n",
    "y_pred[y_pred < THRESHOLD] = -1\n",
    "f1 = f1_score(y_test1, y_pred)\n",
    "accuracy = accuracy_score(y_test1,y_pred)\n",
    "print(f\"Current model: Least Squares\")\n",
    "print(f\"F1_score: {f1}\")\n",
    "print(f\"Accuracy: {accuracy}\")\n",
    "if create_csv:\n",
    "    create_csv_submission(test_ids, y_pred, os.path.join(PREDICTIONS_DIR, \"least_squares_test_03.csv\"))"
   ],
   "metadata": {
    "collapsed": false,
    "ExecuteTime": {
     "end_time": "2023-10-30T00:31:44.542707Z",
     "start_time": "2023-10-30T00:31:37.447057Z"
    }
   },
   "id": "8994bc7f68de2780"
  },
  {
   "cell_type": "code",
   "execution_count": 64,
   "outputs": [],
   "source": [],
   "metadata": {
    "collapsed": false,
    "ExecuteTime": {
     "end_time": "2023-10-30T00:31:44.542840Z",
     "start_time": "2023-10-30T00:31:44.537842Z"
    }
   },
   "id": "316eff2fdc2de08b"
  },
  {
   "cell_type": "code",
   "execution_count": 64,
   "outputs": [],
   "source": [],
   "metadata": {
    "collapsed": false,
    "ExecuteTime": {
     "end_time": "2023-10-30T00:31:44.544195Z",
     "start_time": "2023-10-30T00:31:44.540589Z"
    }
   },
   "id": "cbae1af6903b541d"
  },
  {
   "cell_type": "code",
   "execution_count": 64,
   "outputs": [],
   "source": [],
   "metadata": {
    "collapsed": false,
    "ExecuteTime": {
     "end_time": "2023-10-30T00:31:44.550595Z",
     "start_time": "2023-10-30T00:31:44.543700Z"
    }
   },
   "id": "96de4597c30d24df"
  }
 ],
 "metadata": {
  "kernelspec": {
   "display_name": "Python 3",
   "language": "python",
   "name": "python3"
  },
  "language_info": {
   "codemirror_mode": {
    "name": "ipython",
    "version": 2
   },
   "file_extension": ".py",
   "mimetype": "text/x-python",
   "name": "python",
   "nbconvert_exporter": "python",
   "pygments_lexer": "ipython2",
   "version": "2.7.6"
  }
 },
 "nbformat": 4,
 "nbformat_minor": 5
}
