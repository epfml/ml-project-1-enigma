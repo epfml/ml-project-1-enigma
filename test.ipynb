{
 "cells": [
  {
   "cell_type": "code",
   "execution_count": 30,
   "id": "initial_id",
   "metadata": {
    "collapsed": true,
    "ExecuteTime": {
     "end_time": "2023-10-29T14:11:20.804252Z",
     "start_time": "2023-10-29T14:11:20.744821Z"
    }
   },
   "outputs": [],
   "source": [
    "import sys\n",
    "import os\n",
    "from helpers import load_csv_data, create_csv_submission\n",
    "from run_helpers import load_useless_features_file\n",
    "from implementations import least_squares, reg_logistic_regression, ridge_regression, logistic_regression, mean_squared_error_gd, mean_squared_error_sgd\n",
    "import numpy as np\n",
    "from sklearn.model_selection import train_test_split\n",
    "from sklearn.metrics import f1_score, accuracy_score"
   ]
  },
  {
   "cell_type": "code",
   "execution_count": 31,
   "outputs": [],
   "source": [
    "ROOT_DIR = os.path.abspath(os.curdir)\n",
    "DATA_DIR = os.path.join(ROOT_DIR, \"data\")\n",
    "PREDICTIONS_DIR = os.path.join(ROOT_DIR, \"predictions\")\n",
    "HELPER_FILES_DIR = os.path.join(ROOT_DIR, \"helper_files\")"
   ],
   "metadata": {
    "collapsed": false,
    "ExecuteTime": {
     "end_time": "2023-10-29T14:11:20.808497Z",
     "start_time": "2023-10-29T14:11:20.750379Z"
    }
   },
   "id": "b7916fc67e9e705"
  },
  {
   "cell_type": "code",
   "execution_count": 32,
   "outputs": [],
   "source": [
    "x_train_initial, x_test_initial, y_train_initial, train_ids_initial, test_ids_initial, column_names_initial = load_csv_data(DATA_DIR)"
   ],
   "metadata": {
    "collapsed": false,
    "ExecuteTime": {
     "end_time": "2023-10-29T14:12:45.425511Z",
     "start_time": "2023-10-29T14:11:20.754333Z"
    }
   },
   "id": "2bf1351fa747a1d"
  },
  {
   "cell_type": "code",
   "execution_count": 112,
   "outputs": [],
   "source": [
    "x_train, x_test, y_train, train_ids, test_ids, column_names = x_train_initial.copy(), x_test_initial.copy(), y_train_initial.copy(), train_ids_initial.copy(), test_ids_initial.copy(), column_names_initial.copy()"
   ],
   "metadata": {
    "collapsed": false,
    "ExecuteTime": {
     "end_time": "2023-10-29T14:26:17.402827Z",
     "start_time": "2023-10-29T14:26:16.577217Z"
    }
   },
   "id": "6aebe61f3ce9ac89"
  },
  {
   "cell_type": "code",
   "execution_count": 113,
   "outputs": [
    {
     "data": {
      "text/plain": "array([[5.3000000e+01, 1.1000000e+01, 1.1162015e+07, ...,           nan,\n                  nan, 2.0000000e+00],\n       [3.3000000e+01, 1.2000000e+01, 1.2152015e+07, ...,           nan,\n                  nan,           nan],\n       [2.0000000e+01, 1.0000000e+01, 1.0202015e+07, ..., 1.0000000e+00,\n        2.0000000e+00, 2.0000000e+00],\n       ...,\n       [3.9000000e+01, 1.0000000e+01, 1.0202015e+07, ..., 2.0000000e+00,\n        2.0000000e+00, 2.0000000e+00],\n       [3.3000000e+01, 1.2000000e+01, 1.2302015e+07, ...,           nan,\n                  nan, 2.0000000e+00],\n       [3.2000000e+01, 9.0000000e+00, 9.1220150e+06, ...,           nan,\n                  nan, 2.0000000e+00]])"
     },
     "execution_count": 113,
     "metadata": {},
     "output_type": "execute_result"
    }
   ],
   "source": [
    "x_train"
   ],
   "metadata": {
    "collapsed": false,
    "ExecuteTime": {
     "end_time": "2023-10-29T14:26:17.413030Z",
     "start_time": "2023-10-29T14:26:17.402462Z"
    }
   },
   "id": "7759edf7f02938dc"
  },
  {
   "cell_type": "code",
   "execution_count": 114,
   "outputs": [
    {
     "data": {
      "text/plain": "array(['Id', '_STATE', 'FMONTH', 'IDATE', 'IMONTH', 'IDAY', 'IYEAR',\n       'DISPCODE', 'SEQNO', '_PSU', 'CTELENUM', 'PVTRESD1', 'COLGHOUS',\n       'STATERES', 'CELLFON3', 'LADULT', 'NUMADULT', 'NUMMEN', 'NUMWOMEN',\n       'CTELNUM1', 'CELLFON2', 'CADULT', 'PVTRESD2', 'CCLGHOUS', 'CSTATE',\n       'LANDLINE', 'HHADULT', 'GENHLTH', 'PHYSHLTH', 'MENTHLTH',\n       'POORHLTH', 'HLTHPLN1', 'PERSDOC2', 'MEDCOST', 'CHECKUP1',\n       'BPHIGH4', 'BPMEDS', 'BLOODCHO', 'CHOLCHK', 'TOLDHI2', 'CVDSTRK3',\n       'ASTHMA3', 'ASTHNOW', 'CHCSCNCR', 'CHCOCNCR', 'CHCCOPD1',\n       'HAVARTH3', 'ADDEPEV2', 'CHCKIDNY', 'DIABETE3', 'DIABAGE2', 'SEX',\n       'MARITAL', 'EDUCA', 'RENTHOM1', 'NUMHHOL2', 'NUMPHON2', 'CPDEMO1',\n       'VETERAN3', 'EMPLOY1', 'CHILDREN', 'INCOME2', 'INTERNET',\n       'WEIGHT2', 'HEIGHT3', 'PREGNANT', 'QLACTLM2', 'USEEQUIP', 'BLIND',\n       'DECIDE', 'DIFFWALK', 'DIFFDRES', 'DIFFALON', 'SMOKE100',\n       'SMOKDAY2', 'STOPSMK2', 'LASTSMK2', 'USENOW3', 'ALCDAY5',\n       'AVEDRNK2', 'DRNK3GE5', 'MAXDRNKS', 'FRUITJU1', 'FRUIT1',\n       'FVBEANS', 'FVGREEN', 'FVORANG', 'VEGETAB1', 'EXERANY2',\n       'EXRACT11', 'EXEROFT1', 'EXERHMM1', 'EXRACT21', 'EXEROFT2',\n       'EXERHMM2', 'STRENGTH', 'LMTJOIN3', 'ARTHDIS2', 'ARTHSOCL',\n       'JOINPAIN', 'SEATBELT', 'FLUSHOT6', 'FLSHTMY2', 'IMFVPLAC',\n       'PNEUVAC3', 'HIVTST6', 'HIVTSTD3', 'WHRTST10', 'PDIABTST',\n       'PREDIAB1', 'INSULIN', 'BLDSUGAR', 'FEETCHK2', 'DOCTDIAB',\n       'CHKHEMO3', 'FEETCHK', 'EYEEXAM', 'DIABEYE', 'DIABEDU', 'CAREGIV1',\n       'CRGVREL1', 'CRGVLNG1', 'CRGVHRS1', 'CRGVPRB1', 'CRGVPERS',\n       'CRGVHOUS', 'CRGVMST2', 'CRGVEXPT', 'VIDFCLT2', 'VIREDIF3',\n       'VIPRFVS2', 'VINOCRE2', 'VIEYEXM2', 'VIINSUR2', 'VICTRCT4',\n       'VIGLUMA2', 'VIMACDG2', 'CIMEMLOS', 'CDHOUSE', 'CDASSIST',\n       'CDHELP', 'CDSOCIAL', 'CDDISCUS', 'WTCHSALT', 'LONGWTCH',\n       'DRADVISE', 'ASTHMAGE', 'ASATTACK', 'ASERVIST', 'ASDRVIST',\n       'ASRCHKUP', 'ASACTLIM', 'ASYMPTOM', 'ASNOSLEP', 'ASTHMED3',\n       'ASINHALR', 'HAREHAB1', 'STREHAB1', 'CVDASPRN', 'ASPUNSAF',\n       'RLIVPAIN', 'RDUCHART', 'RDUCSTRK', 'ARTTODAY', 'ARTHWGT',\n       'ARTHEXER', 'ARTHEDU', 'TETANUS', 'HPVADVC2', 'HPVADSHT',\n       'SHINGLE2', 'HADMAM', 'HOWLONG', 'HADPAP2', 'LASTPAP2', 'HPVTEST',\n       'HPLSTTST', 'HADHYST2', 'PROFEXAM', 'LENGEXAM', 'BLDSTOOL',\n       'LSTBLDS3', 'HADSIGM3', 'HADSGCO1', 'LASTSIG3', 'PCPSAAD2',\n       'PCPSADI1', 'PCPSARE1', 'PSATEST1', 'PSATIME', 'PCPSARS1',\n       'PCPSADE1', 'PCDMDECN', 'SCNTMNY1', 'SCNTMEL1', 'SCNTPAID',\n       'SCNTWRK1', 'SCNTLPAD', 'SCNTLWK1', 'SXORIENT', 'TRNSGNDR',\n       'RCSGENDR', 'RCSRLTN2', 'CASTHDX2', 'CASTHNO2', 'EMTSUPRT',\n       'LSATISFY', 'ADPLEASR', 'ADDOWN', 'ADSLEEP', 'ADENERGY', 'ADEAT1',\n       'ADFAIL', 'ADTHINK', 'ADMOVE', 'MISTMNT', 'ADANXEV', 'QSTVER',\n       'QSTLANG', 'MSCODE', '_STSTR', '_STRWT', '_RAWRAKE', '_WT2RAKE',\n       '_CHISPNC', '_CRACE1', '_CPRACE', '_CLLCPWT', '_DUALUSE',\n       '_DUALCOR', '_LLCPWT', '_RFHLTH', '_HCVU651', '_RFHYPE5',\n       '_CHOLCHK', '_RFCHOL', '_LTASTH1', '_CASTHM1', '_ASTHMS1',\n       '_DRDXAR1', '_PRACE1', '_MRACE1', '_HISPANC', '_RACE', '_RACEG21',\n       '_RACEGR3', '_RACE_G1', '_AGEG5YR', '_AGE65YR', '_AGE80', '_AGE_G',\n       'HTIN4', 'HTM4', 'WTKG3', '_BMI5', '_BMI5CAT', '_RFBMI5',\n       '_CHLDCNT', '_EDUCAG', '_INCOMG', '_SMOKER3', '_RFSMOK3',\n       'DRNKANY5', 'DROCDY3_', '_RFBING5', '_DRNKWEK', '_RFDRHV5',\n       'FTJUDA1_', 'FRUTDA1_', 'BEANDAY_', 'GRENDAY_', 'ORNGDAY_',\n       'VEGEDA1_', '_MISFRTN', '_MISVEGN', '_FRTRESP', '_VEGRESP',\n       '_FRUTSUM', '_VEGESUM', '_FRTLT1', '_VEGLT1', '_FRT16', '_VEG23',\n       '_FRUITEX', '_VEGETEX', '_TOTINDA', 'METVL11_', 'METVL21_',\n       'MAXVO2_', 'FC60_', 'ACTIN11_', 'ACTIN21_', 'PADUR1_', 'PADUR2_',\n       'PAFREQ1_', 'PAFREQ2_', '_MINAC11', '_MINAC21', 'STRFREQ_',\n       'PAMISS1_', 'PAMIN11_', 'PAMIN21_', 'PA1MIN_', 'PAVIG11_',\n       'PAVIG21_', 'PA1VIGM_', '_PACAT1', '_PAINDX1', '_PA150R2',\n       '_PA300R2', '_PA30021', '_PASTRNG', '_PAREC1', '_PASTAE1',\n       '_LMTACT1', '_LMTWRK1', '_LMTSCL1', '_RFSEAT2', '_RFSEAT3',\n       '_FLSHOT6', '_PNEUMO2', '_AIDTST3'], dtype='<U8')"
     },
     "execution_count": 114,
     "metadata": {},
     "output_type": "execute_result"
    }
   ],
   "source": [
    "column_names"
   ],
   "metadata": {
    "collapsed": false,
    "ExecuteTime": {
     "end_time": "2023-10-29T14:26:17.413339Z",
     "start_time": "2023-10-29T14:26:17.407750Z"
    }
   },
   "id": "7fe2ffff4914e00b"
  },
  {
   "cell_type": "markdown",
   "source": [
    "# Data cleaning"
   ],
   "metadata": {
    "collapsed": false
   },
   "id": "6656f7b5488eb210"
  },
  {
   "cell_type": "markdown",
   "source": [
    "## Removing useless features"
   ],
   "metadata": {
    "collapsed": false
   },
   "id": "538932b46cc1b606"
  },
  {
   "cell_type": "code",
   "execution_count": 115,
   "outputs": [],
   "source": [
    "useless_features_names = load_useless_features_file(os.path.join(HELPER_FILES_DIR, \"useless_features_names.csv\"))"
   ],
   "metadata": {
    "collapsed": false,
    "ExecuteTime": {
     "end_time": "2023-10-29T14:26:17.420435Z",
     "start_time": "2023-10-29T14:26:17.413186Z"
    }
   },
   "id": "45d35780d2ec8d89"
  },
  {
   "cell_type": "code",
   "execution_count": 116,
   "outputs": [],
   "source": [
    "useless_columns_indices = np.where(np.in1d(column_names, useless_features_names))[0]"
   ],
   "metadata": {
    "collapsed": false,
    "ExecuteTime": {
     "end_time": "2023-10-29T14:26:17.421023Z",
     "start_time": "2023-10-29T14:26:17.416774Z"
    }
   },
   "id": "72a8a15085e4a415"
  },
  {
   "cell_type": "code",
   "execution_count": 117,
   "outputs": [],
   "source": [
    "x_train = np.delete(x_train, useless_columns_indices, axis=1)\n",
    "x_test = np.delete(x_test, useless_columns_indices, axis=1)\n",
    "column_names = np.delete(column_names, useless_columns_indices)"
   ],
   "metadata": {
    "collapsed": false,
    "ExecuteTime": {
     "end_time": "2023-10-29T14:26:18.691799Z",
     "start_time": "2023-10-29T14:26:17.522364Z"
    }
   },
   "id": "bc5ec5b6326f8c0"
  },
  {
   "cell_type": "markdown",
   "source": [
    "## Normalizing data, removing nans and outliers"
   ],
   "metadata": {
    "collapsed": false
   },
   "id": "4dc682788d5998cd"
  },
  {
   "cell_type": "code",
   "execution_count": 118,
   "outputs": [],
   "source": [
    "def clean_outliers(data):\n",
    "   \"\"\"\n",
    "   Cleans the dataset from outliers.\n",
    "   The first quantile and last quantile outliers are replaced by the median without outliers.\n",
    "   \"\"\"\n",
    "   cleaned_data = np.copy(data)\n",
    "  \n",
    "   for i in range(data.shape[1]):  # Iterate over features/columns\n",
    "       feature = data[:, i]\n",
    "      \n",
    "       # Compute the first and last 3% and IQR\n",
    "       Q1 = np.nanpercentile(feature, 3)\n",
    "       Q3 = np.nanpercentile(feature, 97)\n",
    "       IQR = Q3 - Q1\n",
    "      \n",
    "       # Identify the outliers\n",
    "       outlier_mask = (feature < (Q1 - 1.5 * IQR)) | (feature > (Q3 + 1.5 * IQR))\n",
    "      \n",
    "       # Compute the median of the data without outliers\n",
    "       median_without_outliers = np.nanmedian(feature[~outlier_mask])\n",
    "      \n",
    "       # Replace outliers with this median\n",
    "       cleaned_data[outlier_mask, i] = median_without_outliers\n",
    "      \n",
    "   return cleaned_data\n"
   ],
   "metadata": {
    "collapsed": false,
    "ExecuteTime": {
     "end_time": "2023-10-29T14:26:19.038675Z",
     "start_time": "2023-10-29T14:26:18.996394Z"
    }
   },
   "id": "19e01d8df6d970b9"
  },
  {
   "cell_type": "code",
   "execution_count": 119,
   "outputs": [],
   "source": [
    "x_train = clean_outliers(x_train)\n",
    "x_test = clean_outliers(x_test)"
   ],
   "metadata": {
    "collapsed": false,
    "ExecuteTime": {
     "end_time": "2023-10-29T14:26:22.297227Z",
     "start_time": "2023-10-29T14:26:18.999811Z"
    }
   },
   "id": "588add4f1085d258"
  },
  {
   "cell_type": "code",
   "execution_count": 120,
   "outputs": [],
   "source": [
    "x_train_averages = np.nanmean(x_train, axis=0)\n",
    "x_test_averages = np.nanmean(x_test, axis=0)"
   ],
   "metadata": {
    "collapsed": false,
    "ExecuteTime": {
     "end_time": "2023-10-29T14:26:22.939225Z",
     "start_time": "2023-10-29T14:26:22.299325Z"
    }
   },
   "id": "fdc5e591a2408556"
  },
  {
   "cell_type": "code",
   "execution_count": 121,
   "outputs": [],
   "source": [
    "# Replace nan values with the computed means for each feature\n",
    "for i in range(x_train.shape[1]):\n",
    "   x_train[np.isnan(x_train[:, i]), i] = x_train_averages[i]\n",
    "   \n",
    "# Replace nan values with the computed means for each feature\n",
    "for i in range(x_test.shape[1]):\n",
    "   x_test[np.isnan(x_test[:, i]), i] = x_test_averages[i]\n"
   ],
   "metadata": {
    "collapsed": false,
    "ExecuteTime": {
     "end_time": "2023-10-29T14:26:23.317937Z",
     "start_time": "2023-10-29T14:26:22.939077Z"
    }
   },
   "id": "b89aead74db41325"
  },
  {
   "cell_type": "code",
   "execution_count": 122,
   "outputs": [],
   "source": [
    "x_train_std_dev = np.std(x_train, axis=0)\n",
    "x_train = np.delete(x_train, np.where(x_train_std_dev == 0), axis=1)\n",
    "x_test = np.delete(x_test, np.where(x_train_std_dev == 0), axis=1)\n",
    "x_test_std_dev = np.std(x_test, axis=0)\n",
    "x_train = np.delete(x_train, np.where(x_test_std_dev == 0), axis=1)\n",
    "x_test = np.delete(x_test, np.where(x_test_std_dev == 0), axis=1)"
   ],
   "metadata": {
    "collapsed": false,
    "ExecuteTime": {
     "end_time": "2023-10-29T14:26:24.186954Z",
     "start_time": "2023-10-29T14:26:23.319785Z"
    }
   },
   "id": "bb300b9c1d22d4d9"
  },
  {
   "cell_type": "code",
   "execution_count": 123,
   "outputs": [],
   "source": [
    "# Z-score normalization\n",
    "def z_score_normalization(data):\n",
    "   mean_vals = np.mean(data, axis=0)\n",
    "   std_dev = np.std(data, axis=0)\n",
    "   return (data - mean_vals) / std_dev\n",
    "\n",
    "\n",
    "x_train = z_score_normalization(x_train)\n",
    "x_test = z_score_normalization(x_test)"
   ],
   "metadata": {
    "collapsed": false,
    "ExecuteTime": {
     "end_time": "2023-10-29T14:26:25.360848Z",
     "start_time": "2023-10-29T14:26:24.187775Z"
    }
   },
   "id": "3c081ef5489d6b3a"
  },
  {
   "cell_type": "code",
   "execution_count": 124,
   "outputs": [
    {
     "data": {
      "text/plain": "array([[-1.61190630e+00, -1.66692700e+00,  1.18089740e+00, ...,\n         0.00000000e+00,  5.37176464e-16,  2.44635873e-02],\n       [ 7.36126946e-01,  6.49440401e-01,  5.20900978e-16, ...,\n         0.00000000e+00,  5.37176464e-16,  0.00000000e+00],\n       [ 4.39249180e-01,  3.42451951e-01,  1.18089740e+00, ...,\n        -8.59212775e-01, -2.46031587e-01,  2.44635873e-02],\n       ...,\n       [ 7.36126946e-01, -1.77855916e+00,  1.18089740e+00, ...,\n        -1.93109791e-01, -2.46031587e-01,  2.44635873e-02],\n       [ 7.36126946e-01,  6.49440401e-01,  5.20900978e-16, ...,\n         0.00000000e+00,  5.37176464e-16,  2.44635873e-02],\n       [-1.44997297e+00, -1.61111091e+00, -1.97144530e+00, ...,\n         0.00000000e+00,  5.37176464e-16,  2.44635873e-02]])"
     },
     "execution_count": 124,
     "metadata": {},
     "output_type": "execute_result"
    }
   ],
   "source": [
    "x_train"
   ],
   "metadata": {
    "collapsed": false,
    "ExecuteTime": {
     "end_time": "2023-10-29T14:26:25.367027Z",
     "start_time": "2023-10-29T14:26:25.362275Z"
    }
   },
   "id": "57f3505b000bd266"
  },
  {
   "cell_type": "markdown",
   "source": [
    "# Machine learning"
   ],
   "metadata": {
    "collapsed": false
   },
   "id": "1918b150130705f4"
  },
  {
   "cell_type": "markdown",
   "source": [
    "## Splitting train sets in two"
   ],
   "metadata": {
    "collapsed": false
   },
   "id": "36be3f3fb8584de8"
  },
  {
   "cell_type": "code",
   "execution_count": 125,
   "outputs": [],
   "source": [
    "x_train1, x_test1, y_train1, y_test1 = train_test_split(x_train, y_train, test_size=0.33, random_state=42)"
   ],
   "metadata": {
    "collapsed": false,
    "ExecuteTime": {
     "end_time": "2023-10-29T14:26:26.086147Z",
     "start_time": "2023-10-29T14:26:25.366868Z"
    }
   },
   "id": "f742b6f5e97fa4fc"
  },
  {
   "cell_type": "code",
   "execution_count": 126,
   "outputs": [
    {
     "data": {
      "text/plain": "'\\n# Ridge Regression\\nbest_f1_score = [0,0,0,0,0]\\nbest_accuracy = [0,0,0,0,0]\\nbest_total = [0,0,0,0,0]\\nlambda_value = [0,0,0,0,0]\\nfor lambda_ in [0.00001, 0.0001, 0.001, 0.01, 0.1]:\\n    w, loss = ridge_regression(y_train1, x_train1, lambda_)\\n    y_pred1 = x_test1 @ w\\n    y_pred1[y_pred1 >= 0] = 1\\n    y_pred1[y_pred1 < 0] = -1\\n    f1 = f1_score(y_test1, y_pred1)\\n    accuracy = accuracy_score(y_test1,y_pred1)\\n    total = f1 + accuracy\\n    if total > min(best_total):\\n        index = best_total.index(min(best_total))\\n        best_total[index] = total\\n        best_accuracy[index] = accuracy\\n        best_f1_score[index] = f1\\n        lambda_value[index] = lambda_\\n\\n    \\nprint(f\"F1_score: {best_f1_score}\")\\nprint(f\"Accuracy: {best_accuracy}\")\\nprint(f\"lambda values: {lambda_value}\")\\n'"
     },
     "execution_count": 126,
     "metadata": {},
     "output_type": "execute_result"
    }
   ],
   "source": [
    "\"\"\"\n",
    "# Ridge Regression\n",
    "best_f1_score = [0,0,0,0,0]\n",
    "best_accuracy = [0,0,0,0,0]\n",
    "best_total = [0,0,0,0,0]\n",
    "lambda_value = [0,0,0,0,0]\n",
    "for lambda_ in [0.00001, 0.0001, 0.001, 0.01, 0.1]:\n",
    "    w, loss = ridge_regression(y_train1, x_train1, lambda_)\n",
    "    y_pred1 = x_test1 @ w\n",
    "    y_pred1[y_pred1 >= 0] = 1\n",
    "    y_pred1[y_pred1 < 0] = -1\n",
    "    f1 = f1_score(y_test1, y_pred1)\n",
    "    accuracy = accuracy_score(y_test1,y_pred1)\n",
    "    total = f1 + accuracy\n",
    "    if total > min(best_total):\n",
    "        index = best_total.index(min(best_total))\n",
    "        best_total[index] = total\n",
    "        best_accuracy[index] = accuracy\n",
    "        best_f1_score[index] = f1\n",
    "        lambda_value[index] = lambda_\n",
    "\n",
    "    \n",
    "print(f\"F1_score: {best_f1_score}\")\n",
    "print(f\"Accuracy: {best_accuracy}\")\n",
    "print(f\"lambda values: {lambda_value}\")\n",
    "\"\"\""
   ],
   "metadata": {
    "collapsed": false,
    "ExecuteTime": {
     "end_time": "2023-10-29T14:26:26.091516Z",
     "start_time": "2023-10-29T14:26:26.087274Z"
    }
   },
   "id": "e5328ba73177132"
  },
  {
   "cell_type": "code",
   "execution_count": 127,
   "outputs": [
    {
     "data": {
      "text/plain": "'\\nw, loss = ridge_regression(y_train1, x_train1, lambda_/10000)\\ny_pred1 = x_test1 @ w\\ny_pred1[y_pred1 >= 0.23] = 1\\ny_pred1[y_pred1 < 0.23] = -1\\nf1 = f1_score(y_test1, y_pred1)\\naccuracy = accuracy_score(y_test1,y_pred1)\\nprint(f\"F1_score: {f1}\")\\nprint(f\"Accuracy: {accuracy}\")\\n'"
     },
     "execution_count": 127,
     "metadata": {},
     "output_type": "execute_result"
    }
   ],
   "source": [
    "\"\"\"\n",
    "w, loss = ridge_regression(y_train1, x_train1, lambda_/10000)\n",
    "y_pred1 = x_test1 @ w\n",
    "y_pred1[y_pred1 >= 0.23] = 1\n",
    "y_pred1[y_pred1 < 0.23] = -1\n",
    "f1 = f1_score(y_test1, y_pred1)\n",
    "accuracy = accuracy_score(y_test1,y_pred1)\n",
    "print(f\"F1_score: {f1}\")\n",
    "print(f\"Accuracy: {accuracy}\")\n",
    "\"\"\""
   ],
   "metadata": {
    "collapsed": false,
    "ExecuteTime": {
     "end_time": "2023-10-29T14:26:26.098949Z",
     "start_time": "2023-10-29T14:26:26.091306Z"
    }
   },
   "id": "e41e7938bdb83673"
  },
  {
   "cell_type": "code",
   "execution_count": 128,
   "outputs": [
    {
     "data": {
      "text/plain": "'\\n# Logistic Regression\\nbest_f1_score = [0,0,0,0,0]\\nbest_accuracy = [0,0,0,0,0]\\nbest_total = [0,0,0,0,0]\\nbest_max_iters = [0,0,0,0,0]\\nbest_gamma = [0,0,0,0,0]\\ninitial_w = np.zeros(x_train1.shape[1])\\nfor gamma in [0.0001, 0.001, 0.01, 0.1]:\\n    for max_iters in [1000, 5000, 10000]:\\n        w, loss = logistic_regression(y_train1, x_train1, initial_w, max_iters, gamma)\\n        y_pred1 = x_test1 @ w\\n        y_pred1[y_pred1 >= 0] = 1\\n        y_pred1[y_pred1 < 0] = -1\\n        f1 = f1_score(y_test1, y_pred1)\\n        accuracy = accuracy_score(y_test1,y_pred1)\\n        total = f1 + accuracy\\n        if total > min(best_total):\\n            index = best_total.index(min(best_total))\\n            best_total[index] = total\\n            best_accuracy[index] = accuracy\\n            best_f1_score[index] = f1\\n            best_gamma[index] = gamma\\n            best_max_iters[index] = max_iters\\n        if max_iters == 10000:\\n            print(f\"Gamma = {gamma} done...\")\\n\\n    \\nprint(f\"F1_score: {best_f1_score}\")\\nprint(f\"Accuracy: {best_accuracy}\")\\nprint(f\"Max iters: {best_max_iters}\")\\nprint(f\"Gamma: {best_gamma}\")\\n'"
     },
     "execution_count": 128,
     "metadata": {},
     "output_type": "execute_result"
    }
   ],
   "source": [
    "\"\"\"\n",
    "# Logistic Regression\n",
    "best_f1_score = [0,0,0,0,0]\n",
    "best_accuracy = [0,0,0,0,0]\n",
    "best_total = [0,0,0,0,0]\n",
    "best_max_iters = [0,0,0,0,0]\n",
    "best_gamma = [0,0,0,0,0]\n",
    "initial_w = np.zeros(x_train1.shape[1])\n",
    "for gamma in [0.0001, 0.001, 0.01, 0.1]:\n",
    "    for max_iters in [1000, 5000, 10000]:\n",
    "        w, loss = logistic_regression(y_train1, x_train1, initial_w, max_iters, gamma)\n",
    "        y_pred1 = x_test1 @ w\n",
    "        y_pred1[y_pred1 >= 0] = 1\n",
    "        y_pred1[y_pred1 < 0] = -1\n",
    "        f1 = f1_score(y_test1, y_pred1)\n",
    "        accuracy = accuracy_score(y_test1,y_pred1)\n",
    "        total = f1 + accuracy\n",
    "        if total > min(best_total):\n",
    "            index = best_total.index(min(best_total))\n",
    "            best_total[index] = total\n",
    "            best_accuracy[index] = accuracy\n",
    "            best_f1_score[index] = f1\n",
    "            best_gamma[index] = gamma\n",
    "            best_max_iters[index] = max_iters\n",
    "        if max_iters == 10000:\n",
    "            print(f\"Gamma = {gamma} done...\")\n",
    "\n",
    "    \n",
    "print(f\"F1_score: {best_f1_score}\")\n",
    "print(f\"Accuracy: {best_accuracy}\")\n",
    "print(f\"Max iters: {best_max_iters}\")\n",
    "print(f\"Gamma: {best_gamma}\")\n",
    "\"\"\""
   ],
   "metadata": {
    "collapsed": false,
    "ExecuteTime": {
     "end_time": "2023-10-29T14:26:26.099184Z",
     "start_time": "2023-10-29T14:26:26.095517Z"
    }
   },
   "id": "9e735a42a434fae9"
  },
  {
   "cell_type": "code",
   "execution_count": 129,
   "outputs": [
    {
     "data": {
      "text/plain": "'\\n# Reg Logistic regression\\nbest_f1_score = [0,0,0,0,0]\\nbest_accuracy = [0,0,0,0,0]\\nbest_total = [0,0,0,0,0]\\nlambda_value = [0,0,0,0,0]\\nbest_max_iters = [0,0,0,0,0]\\nbest_gamma = [0,0,0,0,0]\\ninitial_w = np.zeros(x_train1.shape[1])\\nfor lambda_ in [0.0001, 0.001, 0.01, 0.1]:\\n    for max_iters in [1000, 5000, 10000]:\\n        for gamma in [0.0001, 0.001, 0.01, 0.1]:\\n            w, loss = reg_logistic_regression(y_train1, x_train1, lambda_, initial_w, max_iters, gamma)\\n            y_pred1 = x_test1 @ w\\n            y_pred1[y_pred1 >= 0] = 1\\n            y_pred1[y_pred1 < 0] = -1\\n            f1 = f1_score(y_test1, y_pred1)\\n            accuracy = accuracy_score(y_test1,y_pred1)\\n            total = f1 + accuracy\\n            if total > min(best_total):\\n                index = best_total.index(min(best_total))\\n                best_total[index] = total\\n                best_accuracy[index] = accuracy\\n                best_f1_score[index] = f1\\n                lambda_value[index] = lambda_\\n                best_max_iters[index] = max_iters\\n                best_gamma[index] = gamma\\n            if max_iters == 10000 and gamma == 0.1:\\n                print(f\"Lambda = {lambda_} done...\")\\n\\nprint(f\"F1_score: {best_f1_score}\")\\nprint(f\"Accuracy: {best_accuracy}\")\\nprint(f\"lambda values: {lambda_value}\")\\nprint(f\"Max iters: {best_max_iters}\")\\nprint(f\"Gamma: {best_gamma}\")\\n'"
     },
     "execution_count": 129,
     "metadata": {},
     "output_type": "execute_result"
    }
   ],
   "source": [
    "\"\"\"\n",
    "# Reg Logistic regression\n",
    "best_f1_score = [0,0,0,0,0]\n",
    "best_accuracy = [0,0,0,0,0]\n",
    "best_total = [0,0,0,0,0]\n",
    "lambda_value = [0,0,0,0,0]\n",
    "best_max_iters = [0,0,0,0,0]\n",
    "best_gamma = [0,0,0,0,0]\n",
    "initial_w = np.zeros(x_train1.shape[1])\n",
    "for lambda_ in [0.0001, 0.001, 0.01, 0.1]:\n",
    "    for max_iters in [1000, 5000, 10000]:\n",
    "        for gamma in [0.0001, 0.001, 0.01, 0.1]:\n",
    "            w, loss = reg_logistic_regression(y_train1, x_train1, lambda_, initial_w, max_iters, gamma)\n",
    "            y_pred1 = x_test1 @ w\n",
    "            y_pred1[y_pred1 >= 0] = 1\n",
    "            y_pred1[y_pred1 < 0] = -1\n",
    "            f1 = f1_score(y_test1, y_pred1)\n",
    "            accuracy = accuracy_score(y_test1,y_pred1)\n",
    "            total = f1 + accuracy\n",
    "            if total > min(best_total):\n",
    "                index = best_total.index(min(best_total))\n",
    "                best_total[index] = total\n",
    "                best_accuracy[index] = accuracy\n",
    "                best_f1_score[index] = f1\n",
    "                lambda_value[index] = lambda_\n",
    "                best_max_iters[index] = max_iters\n",
    "                best_gamma[index] = gamma\n",
    "            if max_iters == 10000 and gamma == 0.1:\n",
    "                print(f\"Lambda = {lambda_} done...\")\n",
    "\n",
    "print(f\"F1_score: {best_f1_score}\")\n",
    "print(f\"Accuracy: {best_accuracy}\")\n",
    "print(f\"lambda values: {lambda_value}\")\n",
    "print(f\"Max iters: {best_max_iters}\")\n",
    "print(f\"Gamma: {best_gamma}\")\n",
    "\"\"\""
   ],
   "metadata": {
    "collapsed": false,
    "ExecuteTime": {
     "end_time": "2023-10-29T14:26:26.104879Z",
     "start_time": "2023-10-29T14:26:26.099781Z"
    }
   },
   "id": "ba2db7338c50957c"
  },
  {
   "cell_type": "markdown",
   "source": [
    "## Running each algo once"
   ],
   "metadata": {
    "collapsed": false
   },
   "id": "5a15d38502380dfe"
  },
  {
   "cell_type": "code",
   "execution_count": 130,
   "outputs": [],
   "source": [
    "THRESHOLD = 0\n",
    "create_csv = False"
   ],
   "metadata": {
    "collapsed": false,
    "ExecuteTime": {
     "end_time": "2023-10-29T14:26:26.106118Z",
     "start_time": "2023-10-29T14:26:26.102921Z"
    }
   },
   "id": "833a3905cf094f6"
  },
  {
   "cell_type": "code",
   "execution_count": 131,
   "outputs": [
    {
     "name": "stdout",
     "output_type": "stream",
     "text": [
      "Current model: Ridge Regression\n",
      "F1_score: 0.31643496476861543\n",
      "Accuracy: 0.6685228794385187\n"
     ]
    }
   ],
   "source": [
    "# Ridge regression\n",
    "lambda_ = 0.0001\n",
    "w, loss = ridge_regression(y_train1, x_train1, lambda_)\n",
    "y_pred = x_test1 @ w\n",
    "y_pred[y_pred >= THRESHOLD] = 1\n",
    "y_pred[y_pred < THRESHOLD] = -1\n",
    "f1 = f1_score(y_test1, y_pred)\n",
    "accuracy = accuracy_score(y_test1,y_pred)\n",
    "print(f\"Current model: Ridge Regression\")\n",
    "print(f\"F1_score: {f1}\")\n",
    "print(f\"Accuracy: {accuracy}\")\n",
    "if create_csv:\n",
    "    create_csv_submission(test_ids, y_pred, os.path.join(PREDICTIONS_DIR, \"ridge_regression_test_03.csv\"))"
   ],
   "metadata": {
    "collapsed": false,
    "ExecuteTime": {
     "end_time": "2023-10-29T14:26:27.325890Z",
     "start_time": "2023-10-29T14:26:26.107164Z"
    }
   },
   "id": "43443cc76510b2b4"
  },
  {
   "cell_type": "code",
   "execution_count": 132,
   "outputs": [
    {
     "name": "stdout",
     "output_type": "stream",
     "text": [
      "Current model: Logistic Regression\n",
      "F1_score: 0.31901074681593883\n",
      "Accuracy: 0.6775638361730618\n"
     ]
    }
   ],
   "source": [
    "# Logistic regression\n",
    "max_iters = 100\n",
    "gamma = 0.1\n",
    "initial_w = np.zeros(x_train.shape[1])\n",
    "w, loss = logistic_regression(y_train1, x_train1, initial_w=initial_w,max_iters=max_iters, gamma=gamma)\n",
    "y_pred = x_test1 @ w\n",
    "y_pred[y_pred >= THRESHOLD] = 1\n",
    "y_pred[y_pred < THRESHOLD] = -1\n",
    "f1 = f1_score(y_test1, y_pred)\n",
    "accuracy = accuracy_score(y_test1,y_pred)\n",
    "print(f\"Current model: Logistic Regression\")\n",
    "print(f\"F1_score: {f1}\")\n",
    "print(f\"Accuracy: {accuracy}\")\n",
    "if create_csv:\n",
    "    create_csv_submission(test_ids, y_pred, os.path.join(PREDICTIONS_DIR, \"logistic_regression_test_03.csv\"))"
   ],
   "metadata": {
    "collapsed": false,
    "ExecuteTime": {
     "end_time": "2023-10-29T14:26:30.858441Z",
     "start_time": "2023-10-29T14:26:27.328147Z"
    }
   },
   "id": "28ac7f7ddf961520"
  },
  {
   "cell_type": "code",
   "execution_count": 133,
   "outputs": [
    {
     "name": "stdout",
     "output_type": "stream",
     "text": [
      "Current model: Reg Logistic Regression\n",
      "F1_score: 0.3189920817568358\n",
      "Accuracy: 0.6775361315048253\n"
     ]
    }
   ],
   "source": [
    "# Reg Logistic regression\n",
    "lambda_ = 0.0001\n",
    "max_iters = 100\n",
    "gamma = 0.1\n",
    "initial_w = np.zeros(x_train.shape[1])\n",
    "w, loss = reg_logistic_regression(y_train1, x_train1, lambda_=lambda_, initial_w=initial_w, max_iters=max_iters, gamma=gamma)\n",
    "y_pred = x_test1 @ w\n",
    "y_pred[y_pred >= THRESHOLD] = 1\n",
    "y_pred[y_pred < THRESHOLD] = -1\n",
    "f1 = f1_score(y_test1, y_pred)\n",
    "accuracy = accuracy_score(y_test1,y_pred)\n",
    "print(f\"Current model: Reg Logistic Regression\")\n",
    "print(f\"F1_score: {f1}\")\n",
    "print(f\"Accuracy: {accuracy}\")\n",
    "if create_csv:\n",
    "    create_csv_submission(test_ids, y_pred, os.path.join(PREDICTIONS_DIR, \"reg_logistic_regression_test_03.csv\"))"
   ],
   "metadata": {
    "collapsed": false,
    "ExecuteTime": {
     "end_time": "2023-10-29T14:26:34.032386Z",
     "start_time": "2023-10-29T14:26:30.855351Z"
    }
   },
   "id": "ed1aa56621dcab04"
  },
  {
   "cell_type": "code",
   "execution_count": 134,
   "outputs": [
    {
     "name": "stdout",
     "output_type": "stream",
     "text": [
      "Current model: Least Squares\n",
      "F1_score: 0.3185419664268585\n",
      "Accuracy: 0.6719674931892691\n"
     ]
    }
   ],
   "source": [
    "# Least Squares\n",
    "w, loss = least_squares(y_train1, x_train1)\n",
    "y_pred = x_test1 @ w\n",
    "y_pred[y_pred >= THRESHOLD] = 1\n",
    "y_pred[y_pred < THRESHOLD] = -1\n",
    "f1 = f1_score(y_test1, y_pred)\n",
    "accuracy = accuracy_score(y_test1,y_pred)\n",
    "print(f\"Current model: Least Squares\")\n",
    "print(f\"F1_score: {f1}\")\n",
    "print(f\"Accuracy: {accuracy}\")\n",
    "if create_csv:\n",
    "    create_csv_submission(test_ids, y_pred, os.path.join(PREDICTIONS_DIR, \"least_squares_test_03.csv\"))"
   ],
   "metadata": {
    "collapsed": false,
    "ExecuteTime": {
     "end_time": "2023-10-29T14:26:52.353583Z",
     "start_time": "2023-10-29T14:26:34.030164Z"
    }
   },
   "id": "8994bc7f68de2780"
  },
  {
   "cell_type": "code",
   "execution_count": 134,
   "outputs": [],
   "source": [],
   "metadata": {
    "collapsed": false,
    "ExecuteTime": {
     "end_time": "2023-10-29T14:26:52.353721Z",
     "start_time": "2023-10-29T14:26:52.349291Z"
    }
   },
   "id": "63ecec3939e9c2ff"
  },
  {
   "cell_type": "code",
   "execution_count": null,
   "outputs": [],
   "source": [],
   "metadata": {
    "collapsed": false
   },
   "id": "316eff2fdc2de08b"
  }
 ],
 "metadata": {
  "kernelspec": {
   "display_name": "Python 3",
   "language": "python",
   "name": "python3"
  },
  "language_info": {
   "codemirror_mode": {
    "name": "ipython",
    "version": 2
   },
   "file_extension": ".py",
   "mimetype": "text/x-python",
   "name": "python",
   "nbconvert_exporter": "python",
   "pygments_lexer": "ipython2",
   "version": "2.7.6"
  }
 },
 "nbformat": 4,
 "nbformat_minor": 5
}
